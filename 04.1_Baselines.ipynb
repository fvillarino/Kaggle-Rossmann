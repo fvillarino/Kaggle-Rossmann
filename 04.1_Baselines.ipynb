{
 "cells": [
  {
   "cell_type": "code",
   "execution_count": 45,
   "metadata": {},
   "outputs": [],
   "source": [
    "import pandas as pd\n",
    "import numpy as np\n",
    "import datetime\n",
    "from pandas_summary import DataFrameSummary\n",
    "from matplotlib import pyplot as plt"
   ]
  },
  {
   "cell_type": "code",
   "execution_count": 2,
   "metadata": {},
   "outputs": [],
   "source": [
    "df = pd.read_feather('train_normalized_data.fth')\n",
    "df_test = pd.read_feather('test_normalized_data.fth')"
   ]
  },
  {
   "cell_type": "code",
   "execution_count": 3,
   "metadata": {},
   "outputs": [
    {
     "data": {
      "text/plain": [
       "(0.9642465458145908, 0.035753454185409164, 844338, 30188)"
      ]
     },
     "execution_count": 3,
     "metadata": {},
     "output_type": "execute_result"
    }
   ],
   "source": [
    "df_train = df[df.Date < datetime.datetime(2015, 7, 1)]  \n",
    "df_val = df[df.Date >= datetime.datetime(2015, 7, 1)]\n",
    "len(df_train)/len(df), len(df_val)/len(df), len(df), len(df_val)"
   ]
  },
  {
   "cell_type": "code",
   "execution_count": 4,
   "metadata": {},
   "outputs": [],
   "source": [
    "final_train = True"
   ]
  },
  {
   "cell_type": "code",
   "execution_count": 5,
   "metadata": {},
   "outputs": [],
   "source": [
    "def get_metric(sales, sales_):\n",
    "    return np.sqrt((((sales - sales_)/sales)**2).sum()/len(sales))"
   ]
  },
  {
   "cell_type": "markdown",
   "metadata": {},
   "source": [
    "\n",
    "$\\textrm{RMSE} = \\sqrt{\\frac{1}{n} \\sum_{i=1}^{n} \\left(\\frac{\\hat{y}_i - y_i}{y_i}\\right)^2}$\n"
   ]
  },
  {
   "cell_type": "code",
   "execution_count": 6,
   "metadata": {},
   "outputs": [
    {
     "data": {
      "text/plain": [
       "Index(['index', 'Store', 'DayOfWeek', 'Date', 'Sales', 'Customers', 'Open',\n",
       "       'Promo', 'StateHoliday', 'SchoolHoliday', 'Year', 'Month', 'Week',\n",
       "       'Day', 'StoreType', 'Assortment', 'CompetitionDistance',\n",
       "       'CompetitionOpenSinceMonth', 'CompetitionOpenSinceYear', 'Promo2',\n",
       "       'Promo2SinceWeek', 'Promo2SinceYear', 'PromoInterval',\n",
       "       'CompetitionOpenSince', 'Promo2Since', 'State', 'file', 'week', 'trend',\n",
       "       'Date_y', 'Month_y', 'Day_y', 'file_DE', 'week_DE', 'trend_DE',\n",
       "       'Date_DE', 'State_DE', 'Month_DE', 'Day_DE', 'file_y',\n",
       "       'Max_TemperatureC', 'Mean_TemperatureC', 'Min_TemperatureC',\n",
       "       'Dew_PointC', 'MeanDew_PointC', 'Min_DewpointC', 'Max_Humidity',\n",
       "       'Mean_Humidity', 'Min_Humidity', 'Max_Sea_Level_PressurehPa',\n",
       "       'Mean_Sea_Level_PressurehPa', 'Min_Sea_Level_PressurehPa',\n",
       "       'Max_VisibilityKm', 'Mean_VisibilityKm', 'Min_VisibilitykM',\n",
       "       'Max_Wind_SpeedKm_h', 'Mean_Wind_SpeedKm_h', 'Max_Gust_SpeedKm_h',\n",
       "       'Precipitationmm', 'CloudCover', 'Events', 'WindDirDegrees',\n",
       "       'StateName', 'Year_y', 'Week_y', 'CompetitionDaysOpen',\n",
       "       'CompetitionMonthsOpen', 'Promo2Days', 'Promo2Weeks',\n",
       "       'StateHoliday_bool', 'AfterSchoolHoliday', 'BeforeSchoolHoliday',\n",
       "       'AfterStateHoliday_bool', 'BeforeStateHoliday_bool', 'AfterPromo',\n",
       "       'BeforePromo', 'SchoolHoliday_bw', 'StateHoliday_bool_bw', 'Promo_bw',\n",
       "       'SchoolHoliday_fw', 'StateHoliday_bool_fw', 'Promo_fw'],\n",
       "      dtype='object')"
      ]
     },
     "execution_count": 6,
     "metadata": {},
     "output_type": "execute_result"
    }
   ],
   "source": [
    "df_train.columns"
   ]
  },
  {
   "cell_type": "code",
   "execution_count": 7,
   "metadata": {},
   "outputs": [
    {
     "data": {
      "text/plain": [
       "set()"
      ]
     },
     "execution_count": 7,
     "metadata": {},
     "output_type": "execute_result"
    }
   ],
   "source": [
    "set(df_train.columns)-set(df_val.columns)"
   ]
  },
  {
   "cell_type": "code",
   "execution_count": 8,
   "metadata": {},
   "outputs": [
    {
     "data": {
      "text/plain": [
       "30188     20\n",
       "30189     20\n",
       "30190      0\n",
       "30191     20\n",
       "30192     20\n",
       "          ..\n",
       "844333    10\n",
       "844334    10\n",
       "844335    10\n",
       "844336     1\n",
       "844337    10\n",
       "Name: Events, Length: 814150, dtype: int64"
      ]
     },
     "execution_count": 8,
     "metadata": {},
     "output_type": "execute_result"
    }
   ],
   "source": [
    "df_train['Events']"
   ]
  },
  {
   "cell_type": "code",
   "execution_count": 9,
   "metadata": {},
   "outputs": [
    {
     "data": {
      "text/plain": [
       "41551"
      ]
     },
     "execution_count": 9,
     "metadata": {},
     "output_type": "execute_result"
    }
   ],
   "source": [
    "df_train['Sales'].max()"
   ]
  },
  {
   "cell_type": "code",
   "execution_count": 10,
   "metadata": {},
   "outputs": [],
   "source": [
    "max_sales = df_train['Sales'].max()\n",
    "df.loc[:, 'Sales_norm'] = df['Sales'].values/max_sales"
   ]
  },
  {
   "cell_type": "code",
   "execution_count": 11,
   "metadata": {},
   "outputs": [
    {
     "name": "stderr",
     "output_type": "stream",
     "text": [
      "C:\\Users\\fvillarino\\Anaconda3\\envs\\dip-ml-env\\lib\\site-packages\\pandas\\core\\indexing.py:1596: SettingWithCopyWarning: \n",
      "A value is trying to be set on a copy of a slice from a DataFrame.\n",
      "Try using .loc[row_indexer,col_indexer] = value instead\n",
      "\n",
      "See the caveats in the documentation: https://pandas.pydata.org/pandas-docs/stable/user_guide/indexing.html#returning-a-view-versus-a-copy\n",
      "  self.obj[key] = value\n",
      "C:\\Users\\fvillarino\\Anaconda3\\envs\\dip-ml-env\\lib\\site-packages\\pandas\\core\\indexing.py:1675: SettingWithCopyWarning: \n",
      "A value is trying to be set on a copy of a slice from a DataFrame.\n",
      "Try using .loc[row_indexer,col_indexer] = value instead\n",
      "\n",
      "See the caveats in the documentation: https://pandas.pydata.org/pandas-docs/stable/user_guide/indexing.html#returning-a-view-versus-a-copy\n",
      "  self._setitem_single_column(ilocs[0], value, pi)\n"
     ]
    }
   ],
   "source": [
    "df_train.loc[:, 'Sales_norm'] = df_train['Sales'].values/max_sales\n",
    "df_val.loc[:, 'Sales_norm'] = df_val['Sales'].values/max_sales"
   ]
  },
  {
   "cell_type": "code",
   "execution_count": 12,
   "metadata": {},
   "outputs": [
    {
     "name": "stdout",
     "output_type": "stream",
     "text": [
      "Train:\n",
      "0.6371089378658743\n",
      "Val:\n"
     ]
    },
    {
     "data": {
      "text/plain": [
       "0.5496723521813329"
      ]
     },
     "execution_count": 12,
     "metadata": {},
     "output_type": "execute_result"
    }
   ],
   "source": [
    "print('Train:')\n",
    "print(get_metric(df_train['Sales_norm'], \n",
    "                 df_train['Sales_norm'].mean()))\n",
    "print('Val:')\n",
    "get_metric(df_val['Sales_norm'], \n",
    "           df_train['Sales_norm'].mean())"
   ]
  },
  {
   "cell_type": "code",
   "execution_count": 13,
   "metadata": {},
   "outputs": [],
   "source": [
    "def get_mean_by_column(column, sales_str):\n",
    "    group_means_dict = {}\n",
    "    group_mean_list = []\n",
    "    for col_value, group_df in df_train.groupby(column):\n",
    "        group_mean =  group_df[group_df[sales_str] > 0][sales_str].mean()\n",
    "        group_means_dict[col_value] = group_mean\n",
    "        group_mean_list.append(group_mean)\n",
    "    print('Train:', get_metric(df_train[sales_str], \n",
    "                               df_train[column].apply(group_means_dict.get)))\n",
    "    print('Val:', get_metric(df_val[sales_str], \n",
    "                             df_val[column].apply(group_means_dict.get)))\n",
    "    return group_means_dict, group_mean_list"
   ]
  },
  {
   "cell_type": "code",
   "execution_count": 14,
   "metadata": {},
   "outputs": [
    {
     "name": "stdout",
     "output_type": "stream",
     "text": [
      "Train: 0.3960913521241833\n",
      "Val: 0.3071746085338872\n"
     ]
    }
   ],
   "source": [
    "# Media por store\n",
    "_ = get_mean_by_column('Store', 'Sales_norm')"
   ]
  },
  {
   "cell_type": "code",
   "execution_count": 15,
   "metadata": {},
   "outputs": [
    {
     "name": "stdout",
     "output_type": "stream",
     "text": [
      "Train: 0.6008874922754364\n",
      "Val: 0.5061392186635405\n"
     ]
    }
   ],
   "source": [
    "# Media por dia de la semana\n",
    "_ = get_mean_by_column('DayOfWeek', 'Sales_norm')"
   ]
  },
  {
   "cell_type": "code",
   "execution_count": 16,
   "metadata": {},
   "outputs": [
    {
     "name": "stdout",
     "output_type": "stream",
     "text": [
      "Train: 0.6077405789213655\n",
      "Val: 0.5171468581189804\n"
     ]
    }
   ],
   "source": [
    "# Media por numera de semana (1-52)\n",
    "_ = get_mean_by_column('Week', 'Sales_norm')"
   ]
  },
  {
   "cell_type": "code",
   "execution_count": 17,
   "metadata": {},
   "outputs": [
    {
     "name": "stdout",
     "output_type": "stream",
     "text": [
      "Train: 0.6326710739722268\n",
      "Val: 0.544465040070309\n"
     ]
    }
   ],
   "source": [
    "_ = get_mean_by_column('Month', 'Sales_norm')"
   ]
  },
  {
   "cell_type": "code",
   "execution_count": 18,
   "metadata": {},
   "outputs": [
    {
     "name": "stdout",
     "output_type": "stream",
     "text": [
      "Train: 0.6379671046048598\n",
      "Val: 0.5494193814701794\n"
     ]
    }
   ],
   "source": [
    "_ = get_mean_by_column('StateHoliday', 'Sales_norm')"
   ]
  },
  {
   "cell_type": "code",
   "execution_count": 19,
   "metadata": {},
   "outputs": [
    {
     "name": "stdout",
     "output_type": "stream",
     "text": [
      "Train: 0.6352131730794401\n",
      "Val: 0.5522886254888293\n"
     ]
    }
   ],
   "source": [
    "_ = get_mean_by_column('SchoolHoliday', 'Sales_norm')"
   ]
  },
  {
   "cell_type": "code",
   "execution_count": 20,
   "metadata": {},
   "outputs": [],
   "source": [
    "from tensorflow.keras.models import Model\n",
    "from tensorflow.keras.callbacks import ModelCheckpoint\n",
    "from tensorflow.keras.optimizers import Adam\n",
    "from tensorflow.keras.layers import Embedding, Input, Flatten, Concatenate, Dense, BatchNormalization, Activation, LeakyReLU, Dropout\n",
    "from tensorflow.keras.regularizers import l2\n",
    "from tensorflow.keras import optimizers\n",
    "from tensorflow.keras import backend as K\n",
    "from tensorflow.keras.utils import to_categorical\n",
    "import matplotlib as plt"
   ]
  },
  {
   "cell_type": "code",
   "execution_count": 21,
   "metadata": {},
   "outputs": [],
   "source": [
    "def rmspe(y_true, y_pred):\n",
    "    return K.sqrt(K.mean(K.square((y_true - y_pred)/y_true)))"
   ]
  },
  {
   "cell_type": "code",
   "execution_count": 22,
   "metadata": {},
   "outputs": [],
   "source": [
    "def get_keras_LR(X_columns, hidden_units=1):\n",
    "    inputs = []\n",
    "    activation = 'linear'\n",
    "    if hidden_units>1:\n",
    "        activation = 'relu'\n",
    "    for i, col in enumerate(X_columns):\n",
    "        inp = Input(shape=(X_train[i].shape[1],), name=f\"{col}_input\")\n",
    "        inputs.append(inp)\n",
    "    if len(X_columns)>1:\n",
    "        concat_out = Concatenate()(inputs)\n",
    "        dense_out = Dense(hidden_units, name='Dense', activation=activation)(concat_out)\n",
    "    else:\n",
    "        dense_out = Dense(hidden_units, name='Dense', activation=activation)(inputs[0])\n",
    "    if hidden_units>1:\n",
    "        dense_out = Dense(1, name='Dense_out')(dense_out)\n",
    "    model = Model(inputs, dense_out)\n",
    "    model.compile(optimizers.Adam(lr=0.0001), loss='mse', metrics=[rmspe, 'mse'])\n",
    "    return model\n",
    "\n",
    "\n",
    "def get_embedings_NN(X_columns, hidden_units = 20, activation = 'relu'):\n",
    "    embed_outs = []\n",
    "    inputs = []\n",
    "    for i, col in enumerate(X_columns):\n",
    "        inp = Input(shape=(1,), name=f\"{col}_input\")\n",
    "        inputs.append(inp)\n",
    "        if col in embed_outs_dict:\n",
    "            embed_out = Embedding(len(np.unique(X_train[i])), embed_outs_dict[col], name=f\"{col}_embedding\", mask_zero=False)(inp)\n",
    "            out = Flatten(name=f\"{col}_flatten\")(embed_out)\n",
    "            embed_outs.append(out)\n",
    "        else:\n",
    "            embed_outs.append(inp)\n",
    "        \n",
    "    if len(X_columns)>1:\n",
    "        concat_out = Concatenate()(embed_outs)\n",
    "        dense_out = Dense(hidden_units, activation=activation)(concat_out)\n",
    "    else:\n",
    "        dense_out = Dense(hidden_units, activation=activation)(out)\n",
    "    out = Dense(1)(dense_out)\n",
    "    model = Model(inputs, out)\n",
    "    model.compile(optimizers.Adam(lr=0.0001), loss='mse', metrics=[rmspe, 'mse'])\n",
    "    return model"
   ]
  },
  {
   "cell_type": "code",
   "execution_count": 23,
   "metadata": {},
   "outputs": [
    {
     "data": {
      "text/html": [
       "<div>\n",
       "<style scoped>\n",
       "    .dataframe tbody tr th:only-of-type {\n",
       "        vertical-align: middle;\n",
       "    }\n",
       "\n",
       "    .dataframe tbody tr th {\n",
       "        vertical-align: top;\n",
       "    }\n",
       "\n",
       "    .dataframe thead th {\n",
       "        text-align: right;\n",
       "    }\n",
       "</style>\n",
       "<table border=\"1\" class=\"dataframe\">\n",
       "  <thead>\n",
       "    <tr style=\"text-align: right;\">\n",
       "      <th></th>\n",
       "      <th>index</th>\n",
       "      <th>Store</th>\n",
       "      <th>DayOfWeek</th>\n",
       "      <th>Date</th>\n",
       "      <th>Sales</th>\n",
       "      <th>Customers</th>\n",
       "      <th>Open</th>\n",
       "      <th>Promo</th>\n",
       "      <th>StateHoliday</th>\n",
       "      <th>SchoolHoliday</th>\n",
       "      <th>...</th>\n",
       "      <th>BeforeStateHoliday_bool</th>\n",
       "      <th>AfterPromo</th>\n",
       "      <th>BeforePromo</th>\n",
       "      <th>SchoolHoliday_bw</th>\n",
       "      <th>StateHoliday_bool_bw</th>\n",
       "      <th>Promo_bw</th>\n",
       "      <th>SchoolHoliday_fw</th>\n",
       "      <th>StateHoliday_bool_fw</th>\n",
       "      <th>Promo_fw</th>\n",
       "      <th>Sales_norm</th>\n",
       "    </tr>\n",
       "  </thead>\n",
       "  <tbody>\n",
       "    <tr>\n",
       "      <th>30188</th>\n",
       "      <td>34565</td>\n",
       "      <td>0</td>\n",
       "      <td>1</td>\n",
       "      <td>2015-06-30</td>\n",
       "      <td>5735</td>\n",
       "      <td>568</td>\n",
       "      <td>1</td>\n",
       "      <td>1.273237</td>\n",
       "      <td>0</td>\n",
       "      <td>-0.466372</td>\n",
       "      <td>...</td>\n",
       "      <td>1.072424</td>\n",
       "      <td>0</td>\n",
       "      <td>0</td>\n",
       "      <td>0</td>\n",
       "      <td>0</td>\n",
       "      <td>2</td>\n",
       "      <td>0</td>\n",
       "      <td>0</td>\n",
       "      <td>4</td>\n",
       "      <td>0.138023</td>\n",
       "    </tr>\n",
       "    <tr>\n",
       "      <th>30189</th>\n",
       "      <td>34566</td>\n",
       "      <td>1</td>\n",
       "      <td>1</td>\n",
       "      <td>2015-06-30</td>\n",
       "      <td>9863</td>\n",
       "      <td>877</td>\n",
       "      <td>1</td>\n",
       "      <td>1.273237</td>\n",
       "      <td>0</td>\n",
       "      <td>-0.466372</td>\n",
       "      <td>...</td>\n",
       "      <td>1.072424</td>\n",
       "      <td>0</td>\n",
       "      <td>0</td>\n",
       "      <td>0</td>\n",
       "      <td>0</td>\n",
       "      <td>2</td>\n",
       "      <td>0</td>\n",
       "      <td>0</td>\n",
       "      <td>4</td>\n",
       "      <td>0.237371</td>\n",
       "    </tr>\n",
       "    <tr>\n",
       "      <th>30190</th>\n",
       "      <td>34567</td>\n",
       "      <td>2</td>\n",
       "      <td>1</td>\n",
       "      <td>2015-06-30</td>\n",
       "      <td>13261</td>\n",
       "      <td>1072</td>\n",
       "      <td>1</td>\n",
       "      <td>1.273237</td>\n",
       "      <td>0</td>\n",
       "      <td>2.144211</td>\n",
       "      <td>...</td>\n",
       "      <td>1.072424</td>\n",
       "      <td>0</td>\n",
       "      <td>0</td>\n",
       "      <td>2</td>\n",
       "      <td>0</td>\n",
       "      <td>2</td>\n",
       "      <td>5</td>\n",
       "      <td>0</td>\n",
       "      <td>4</td>\n",
       "      <td>0.319150</td>\n",
       "    </tr>\n",
       "    <tr>\n",
       "      <th>30191</th>\n",
       "      <td>34568</td>\n",
       "      <td>3</td>\n",
       "      <td>1</td>\n",
       "      <td>2015-06-30</td>\n",
       "      <td>13106</td>\n",
       "      <td>1488</td>\n",
       "      <td>1</td>\n",
       "      <td>1.273237</td>\n",
       "      <td>0</td>\n",
       "      <td>-0.466372</td>\n",
       "      <td>...</td>\n",
       "      <td>1.072424</td>\n",
       "      <td>0</td>\n",
       "      <td>0</td>\n",
       "      <td>0</td>\n",
       "      <td>0</td>\n",
       "      <td>2</td>\n",
       "      <td>0</td>\n",
       "      <td>0</td>\n",
       "      <td>4</td>\n",
       "      <td>0.315420</td>\n",
       "    </tr>\n",
       "    <tr>\n",
       "      <th>30192</th>\n",
       "      <td>34569</td>\n",
       "      <td>4</td>\n",
       "      <td>1</td>\n",
       "      <td>2015-06-30</td>\n",
       "      <td>6635</td>\n",
       "      <td>645</td>\n",
       "      <td>1</td>\n",
       "      <td>1.273237</td>\n",
       "      <td>0</td>\n",
       "      <td>-0.466372</td>\n",
       "      <td>...</td>\n",
       "      <td>1.072424</td>\n",
       "      <td>0</td>\n",
       "      <td>0</td>\n",
       "      <td>0</td>\n",
       "      <td>0</td>\n",
       "      <td>2</td>\n",
       "      <td>0</td>\n",
       "      <td>0</td>\n",
       "      <td>4</td>\n",
       "      <td>0.159683</td>\n",
       "    </tr>\n",
       "    <tr>\n",
       "      <th>...</th>\n",
       "      <td>...</td>\n",
       "      <td>...</td>\n",
       "      <td>...</td>\n",
       "      <td>...</td>\n",
       "      <td>...</td>\n",
       "      <td>...</td>\n",
       "      <td>...</td>\n",
       "      <td>...</td>\n",
       "      <td>...</td>\n",
       "      <td>...</td>\n",
       "      <td>...</td>\n",
       "      <td>...</td>\n",
       "      <td>...</td>\n",
       "      <td>...</td>\n",
       "      <td>...</td>\n",
       "      <td>...</td>\n",
       "      <td>...</td>\n",
       "      <td>...</td>\n",
       "      <td>...</td>\n",
       "      <td>...</td>\n",
       "      <td>...</td>\n",
       "    </tr>\n",
       "    <tr>\n",
       "      <th>844333</th>\n",
       "      <td>1016776</td>\n",
       "      <td>681</td>\n",
       "      <td>1</td>\n",
       "      <td>2013-01-01</td>\n",
       "      <td>3375</td>\n",
       "      <td>566</td>\n",
       "      <td>1</td>\n",
       "      <td>-0.785400</td>\n",
       "      <td>1</td>\n",
       "      <td>2.144211</td>\n",
       "      <td>...</td>\n",
       "      <td>1.072424</td>\n",
       "      <td>0</td>\n",
       "      <td>-6</td>\n",
       "      <td>1</td>\n",
       "      <td>1</td>\n",
       "      <td>0</td>\n",
       "      <td>4</td>\n",
       "      <td>1</td>\n",
       "      <td>1</td>\n",
       "      <td>0.081225</td>\n",
       "    </tr>\n",
       "    <tr>\n",
       "      <th>844334</th>\n",
       "      <td>1016827</td>\n",
       "      <td>732</td>\n",
       "      <td>1</td>\n",
       "      <td>2013-01-01</td>\n",
       "      <td>10765</td>\n",
       "      <td>2377</td>\n",
       "      <td>1</td>\n",
       "      <td>-0.785400</td>\n",
       "      <td>1</td>\n",
       "      <td>2.144211</td>\n",
       "      <td>...</td>\n",
       "      <td>1.072424</td>\n",
       "      <td>0</td>\n",
       "      <td>-6</td>\n",
       "      <td>1</td>\n",
       "      <td>1</td>\n",
       "      <td>0</td>\n",
       "      <td>4</td>\n",
       "      <td>1</td>\n",
       "      <td>1</td>\n",
       "      <td>0.259079</td>\n",
       "    </tr>\n",
       "    <tr>\n",
       "      <th>844335</th>\n",
       "      <td>1016863</td>\n",
       "      <td>768</td>\n",
       "      <td>1</td>\n",
       "      <td>2013-01-01</td>\n",
       "      <td>5035</td>\n",
       "      <td>1248</td>\n",
       "      <td>1</td>\n",
       "      <td>-0.785400</td>\n",
       "      <td>1</td>\n",
       "      <td>2.144211</td>\n",
       "      <td>...</td>\n",
       "      <td>1.072424</td>\n",
       "      <td>0</td>\n",
       "      <td>-6</td>\n",
       "      <td>1</td>\n",
       "      <td>1</td>\n",
       "      <td>0</td>\n",
       "      <td>4</td>\n",
       "      <td>1</td>\n",
       "      <td>1</td>\n",
       "      <td>0.121176</td>\n",
       "    </tr>\n",
       "    <tr>\n",
       "      <th>844336</th>\n",
       "      <td>1017042</td>\n",
       "      <td>947</td>\n",
       "      <td>1</td>\n",
       "      <td>2013-01-01</td>\n",
       "      <td>4491</td>\n",
       "      <td>1039</td>\n",
       "      <td>1</td>\n",
       "      <td>-0.785400</td>\n",
       "      <td>1</td>\n",
       "      <td>2.144211</td>\n",
       "      <td>...</td>\n",
       "      <td>1.072424</td>\n",
       "      <td>0</td>\n",
       "      <td>-6</td>\n",
       "      <td>1</td>\n",
       "      <td>1</td>\n",
       "      <td>0</td>\n",
       "      <td>4</td>\n",
       "      <td>2</td>\n",
       "      <td>1</td>\n",
       "      <td>0.108084</td>\n",
       "    </tr>\n",
       "    <tr>\n",
       "      <th>844337</th>\n",
       "      <td>1017190</td>\n",
       "      <td>1096</td>\n",
       "      <td>1</td>\n",
       "      <td>2013-01-01</td>\n",
       "      <td>5961</td>\n",
       "      <td>1405</td>\n",
       "      <td>1</td>\n",
       "      <td>-0.785400</td>\n",
       "      <td>1</td>\n",
       "      <td>2.144211</td>\n",
       "      <td>...</td>\n",
       "      <td>1.072424</td>\n",
       "      <td>0</td>\n",
       "      <td>-6</td>\n",
       "      <td>1</td>\n",
       "      <td>1</td>\n",
       "      <td>0</td>\n",
       "      <td>4</td>\n",
       "      <td>1</td>\n",
       "      <td>1</td>\n",
       "      <td>0.143462</td>\n",
       "    </tr>\n",
       "  </tbody>\n",
       "</table>\n",
       "<p>814150 rows × 83 columns</p>\n",
       "</div>"
      ],
      "text/plain": [
       "          index  Store  DayOfWeek       Date  Sales  Customers  Open  \\\n",
       "30188     34565      0          1 2015-06-30   5735        568     1   \n",
       "30189     34566      1          1 2015-06-30   9863        877     1   \n",
       "30190     34567      2          1 2015-06-30  13261       1072     1   \n",
       "30191     34568      3          1 2015-06-30  13106       1488     1   \n",
       "30192     34569      4          1 2015-06-30   6635        645     1   \n",
       "...         ...    ...        ...        ...    ...        ...   ...   \n",
       "844333  1016776    681          1 2013-01-01   3375        566     1   \n",
       "844334  1016827    732          1 2013-01-01  10765       2377     1   \n",
       "844335  1016863    768          1 2013-01-01   5035       1248     1   \n",
       "844336  1017042    947          1 2013-01-01   4491       1039     1   \n",
       "844337  1017190   1096          1 2013-01-01   5961       1405     1   \n",
       "\n",
       "           Promo  StateHoliday  SchoolHoliday  ...  BeforeStateHoliday_bool  \\\n",
       "30188   1.273237             0      -0.466372  ...                 1.072424   \n",
       "30189   1.273237             0      -0.466372  ...                 1.072424   \n",
       "30190   1.273237             0       2.144211  ...                 1.072424   \n",
       "30191   1.273237             0      -0.466372  ...                 1.072424   \n",
       "30192   1.273237             0      -0.466372  ...                 1.072424   \n",
       "...          ...           ...            ...  ...                      ...   \n",
       "844333 -0.785400             1       2.144211  ...                 1.072424   \n",
       "844334 -0.785400             1       2.144211  ...                 1.072424   \n",
       "844335 -0.785400             1       2.144211  ...                 1.072424   \n",
       "844336 -0.785400             1       2.144211  ...                 1.072424   \n",
       "844337 -0.785400             1       2.144211  ...                 1.072424   \n",
       "\n",
       "        AfterPromo  BeforePromo  SchoolHoliday_bw  StateHoliday_bool_bw  \\\n",
       "30188            0            0                 0                     0   \n",
       "30189            0            0                 0                     0   \n",
       "30190            0            0                 2                     0   \n",
       "30191            0            0                 0                     0   \n",
       "30192            0            0                 0                     0   \n",
       "...            ...          ...               ...                   ...   \n",
       "844333           0           -6                 1                     1   \n",
       "844334           0           -6                 1                     1   \n",
       "844335           0           -6                 1                     1   \n",
       "844336           0           -6                 1                     1   \n",
       "844337           0           -6                 1                     1   \n",
       "\n",
       "        Promo_bw  SchoolHoliday_fw  StateHoliday_bool_fw  Promo_fw  Sales_norm  \n",
       "30188          2                 0                     0         4    0.138023  \n",
       "30189          2                 0                     0         4    0.237371  \n",
       "30190          2                 5                     0         4    0.319150  \n",
       "30191          2                 0                     0         4    0.315420  \n",
       "30192          2                 0                     0         4    0.159683  \n",
       "...          ...               ...                   ...       ...         ...  \n",
       "844333         0                 4                     1         1    0.081225  \n",
       "844334         0                 4                     1         1    0.259079  \n",
       "844335         0                 4                     1         1    0.121176  \n",
       "844336         0                 4                     2         1    0.108084  \n",
       "844337         0                 4                     1         1    0.143462  \n",
       "\n",
       "[814150 rows x 83 columns]"
      ]
     },
     "execution_count": 23,
     "metadata": {},
     "output_type": "execute_result"
    }
   ],
   "source": [
    "df_train"
   ]
  },
  {
   "cell_type": "code",
   "execution_count": 51,
   "metadata": {},
   "outputs": [],
   "source": [
    "with_embed = True\n",
    "\n",
    "embed_outs_dict = {'Store': 2, 'DayOfWeek': 2}#,  'Week': 2, 'Month': 2}\n",
    "X_columns = list(embed_outs_dict.keys())# + ['BeforeStateHoliday_bool', 'Max_TemperatureC'] # ['Precipitationmm']\n",
    "\n",
    "if final_train:\n",
    "    X_train = np.hsplit(df[X_columns].values, len(X_columns))\n",
    "    y_train = df['Sales_norm']\n",
    "else:\n",
    "    X_train = np.hsplit(df_train[X_columns].values, len(X_columns))\n",
    "    y_train = df_train['Sales_norm']\n",
    "    \n"
   ]
  },
  {
   "cell_type": "code",
   "execution_count": 52,
   "metadata": {},
   "outputs": [
    {
     "data": {
      "text/html": [
       "<div>\n",
       "<style scoped>\n",
       "    .dataframe tbody tr th:only-of-type {\n",
       "        vertical-align: middle;\n",
       "    }\n",
       "\n",
       "    .dataframe tbody tr th {\n",
       "        vertical-align: top;\n",
       "    }\n",
       "\n",
       "    .dataframe thead th {\n",
       "        text-align: right;\n",
       "    }\n",
       "</style>\n",
       "<table border=\"1\" class=\"dataframe\">\n",
       "  <thead>\n",
       "    <tr style=\"text-align: right;\">\n",
       "      <th></th>\n",
       "      <th>Store</th>\n",
       "      <th>DayOfWeek</th>\n",
       "    </tr>\n",
       "  </thead>\n",
       "  <tbody>\n",
       "    <tr>\n",
       "      <th>30188</th>\n",
       "      <td>0</td>\n",
       "      <td>1</td>\n",
       "    </tr>\n",
       "    <tr>\n",
       "      <th>30189</th>\n",
       "      <td>1</td>\n",
       "      <td>1</td>\n",
       "    </tr>\n",
       "    <tr>\n",
       "      <th>30190</th>\n",
       "      <td>2</td>\n",
       "      <td>1</td>\n",
       "    </tr>\n",
       "    <tr>\n",
       "      <th>30191</th>\n",
       "      <td>3</td>\n",
       "      <td>1</td>\n",
       "    </tr>\n",
       "    <tr>\n",
       "      <th>30192</th>\n",
       "      <td>4</td>\n",
       "      <td>1</td>\n",
       "    </tr>\n",
       "    <tr>\n",
       "      <th>...</th>\n",
       "      <td>...</td>\n",
       "      <td>...</td>\n",
       "    </tr>\n",
       "    <tr>\n",
       "      <th>844333</th>\n",
       "      <td>681</td>\n",
       "      <td>1</td>\n",
       "    </tr>\n",
       "    <tr>\n",
       "      <th>844334</th>\n",
       "      <td>732</td>\n",
       "      <td>1</td>\n",
       "    </tr>\n",
       "    <tr>\n",
       "      <th>844335</th>\n",
       "      <td>768</td>\n",
       "      <td>1</td>\n",
       "    </tr>\n",
       "    <tr>\n",
       "      <th>844336</th>\n",
       "      <td>947</td>\n",
       "      <td>1</td>\n",
       "    </tr>\n",
       "    <tr>\n",
       "      <th>844337</th>\n",
       "      <td>1096</td>\n",
       "      <td>1</td>\n",
       "    </tr>\n",
       "  </tbody>\n",
       "</table>\n",
       "<p>814150 rows × 2 columns</p>\n",
       "</div>"
      ],
      "text/plain": [
       "        Store  DayOfWeek\n",
       "30188       0          1\n",
       "30189       1          1\n",
       "30190       2          1\n",
       "30191       3          1\n",
       "30192       4          1\n",
       "...       ...        ...\n",
       "844333    681          1\n",
       "844334    732          1\n",
       "844335    768          1\n",
       "844336    947          1\n",
       "844337   1096          1\n",
       "\n",
       "[814150 rows x 2 columns]"
      ]
     },
     "execution_count": 52,
     "metadata": {},
     "output_type": "execute_result"
    }
   ],
   "source": [
    "df_train[X_columns]"
   ]
  },
  {
   "cell_type": "code",
   "execution_count": 53,
   "metadata": {},
   "outputs": [
    {
     "data": {
      "text/plain": [
       "[array([[   0],\n",
       "        [   1],\n",
       "        [   2],\n",
       "        ...,\n",
       "        [ 768],\n",
       "        [ 947],\n",
       "        [1096]], dtype=int64),\n",
       " array([[4],\n",
       "        [4],\n",
       "        [4],\n",
       "        ...,\n",
       "        [1],\n",
       "        [1],\n",
       "        [1]], dtype=int64)]"
      ]
     },
     "metadata": {},
     "output_type": "display_data"
    }
   ],
   "source": [
    "display(X_train)"
   ]
  },
  {
   "cell_type": "code",
   "execution_count": 54,
   "metadata": {},
   "outputs": [],
   "source": [
    "X_val = np.hsplit(df_val[X_columns].values, len(X_columns))\n",
    "X_test = np.hsplit(df_test[X_columns].values, len(X_columns))\n",
    "\n",
    "if not with_embed:\n",
    "    for i in range(len(X_train)):\n",
    "        X_train[i] = to_categorical(X_train[i])\n",
    "        X_val[i] = to_categorical(X_val[i])\n",
    "        X_test[i] = to_categorical(X_test[i])\n",
    "\n",
    "y_val = df_val['Sales_norm']"
   ]
  },
  {
   "cell_type": "code",
   "execution_count": 55,
   "metadata": {},
   "outputs": [
    {
     "data": {
      "text/plain": [
       "[array([[   0],\n",
       "        [   1],\n",
       "        [   2],\n",
       "        ...,\n",
       "        [ 768],\n",
       "        [ 947],\n",
       "        [1096]], dtype=int64),\n",
       " array([[4],\n",
       "        [4],\n",
       "        [4],\n",
       "        ...,\n",
       "        [1],\n",
       "        [1],\n",
       "        [1]], dtype=int64)]"
      ]
     },
     "metadata": {},
     "output_type": "display_data"
    }
   ],
   "source": [
    "display(X_train)"
   ]
  },
  {
   "cell_type": "code",
   "execution_count": 56,
   "metadata": {},
   "outputs": [
    {
     "data": {
      "text/plain": [
       "[array([[   0],\n",
       "        [   1],\n",
       "        [   2],\n",
       "        ...,\n",
       "        [ 768],\n",
       "        [ 947],\n",
       "        [1096]], dtype=int64),\n",
       " array([[4],\n",
       "        [4],\n",
       "        [4],\n",
       "        ...,\n",
       "        [1],\n",
       "        [1],\n",
       "        [1]], dtype=int64)]"
      ]
     },
     "execution_count": 56,
     "metadata": {},
     "output_type": "execute_result"
    }
   ],
   "source": [
    "X_train"
   ]
  },
  {
   "cell_type": "code",
   "execution_count": 57,
   "metadata": {},
   "outputs": [
    {
     "name": "stdout",
     "output_type": "stream",
     "text": [
      "Model: \"functional_3\"\n",
      "__________________________________________________________________________________________________\n",
      "Layer (type)                    Output Shape         Param #     Connected to                     \n",
      "==================================================================================================\n",
      "Store_input (InputLayer)        [(None, 1)]          0                                            \n",
      "__________________________________________________________________________________________________\n",
      "DayOfWeek_input (InputLayer)    [(None, 1)]          0                                            \n",
      "__________________________________________________________________________________________________\n",
      "Store_embedding (Embedding)     (None, 1, 2)         2230        Store_input[0][0]                \n",
      "__________________________________________________________________________________________________\n",
      "DayOfWeek_embedding (Embedding) (None, 1, 2)         14          DayOfWeek_input[0][0]            \n",
      "__________________________________________________________________________________________________\n",
      "Store_flatten (Flatten)         (None, 2)            0           Store_embedding[0][0]            \n",
      "__________________________________________________________________________________________________\n",
      "DayOfWeek_flatten (Flatten)     (None, 2)            0           DayOfWeek_embedding[0][0]        \n",
      "__________________________________________________________________________________________________\n",
      "concatenate_1 (Concatenate)     (None, 4)            0           Store_flatten[0][0]              \n",
      "                                                                 DayOfWeek_flatten[0][0]          \n",
      "__________________________________________________________________________________________________\n",
      "dense (Dense)                   (None, 20)           100         concatenate_1[0][0]              \n",
      "__________________________________________________________________________________________________\n",
      "dense_1 (Dense)                 (None, 1)            21          dense[0][0]                      \n",
      "==================================================================================================\n",
      "Total params: 2,365\n",
      "Trainable params: 2,365\n",
      "Non-trainable params: 0\n",
      "__________________________________________________________________________________________________\n"
     ]
    }
   ],
   "source": [
    "if with_embed:\n",
    "    model = get_embedings_NN(X_columns)\n",
    "else:\n",
    "    model = get_keras_LR(X_columns, hidden_units=20)\n",
    "model.summary()"
   ]
  },
  {
   "cell_type": "code",
   "execution_count": 58,
   "metadata": {},
   "outputs": [],
   "source": [
    "weights = model.get_weights()\n",
    "#weights[0] = np.array(np.array(stores_mean_list).reshape(-1, 1))\n",
    "#model.set_weights(weights)"
   ]
  },
  {
   "cell_type": "code",
   "execution_count": 59,
   "metadata": {},
   "outputs": [
    {
     "data": {
      "image/png": "[encoded data removed]",
      "text/plain": [
       "<Figure size 432x288 with 1 Axes>"
      ]
     },
     "metadata": {
      "needs_background": "light"
     },
     "output_type": "display_data"
    }
   ],
   "source": [
    "weights = model.get_weights()[0]\n",
    "biases = model.get_weights()[1]\n",
    "\n",
    "fig, ax1 = plt.subplots(1)\n",
    "fig.suptitle('Distribución de pesos')\n",
    "ax1.hist(weights.flatten(),100)\n",
    "plt.show()"
   ]
  },
  {
   "cell_type": "code",
   "execution_count": 60,
   "metadata": {},
   "outputs": [],
   "source": [
    "from tensorflow.keras import callbacks"
   ]
  },
  {
   "cell_type": "code",
   "execution_count": 61,
   "metadata": {},
   "outputs": [
    {
     "name": "stdout",
     "output_type": "stream",
     "text": [
      "944/944 [==============================] - 1s 683us/step - loss: 0.0313 - rmspe: 0.9490 - mse: 0.0313\n"
     ]
    },
    {
     "data": {
      "text/plain": [
       "[0.03133544698357582, 0.9489999413490295, 0.03133544698357582]"
      ]
     },
     "execution_count": 61,
     "metadata": {},
     "output_type": "execute_result"
    }
   ],
   "source": [
    "model.evaluate(X_val, y_val)"
   ]
  },
  {
   "cell_type": "code",
   "execution_count": 62,
   "metadata": {},
   "outputs": [
    {
     "data": {
      "text/plain": [
       "0.22715633383201095"
      ]
     },
     "execution_count": 62,
     "metadata": {},
     "output_type": "execute_result"
    }
   ],
   "source": [
    "np.sqrt(0.0516)"
   ]
  },
  {
   "cell_type": "code",
   "execution_count": 63,
   "metadata": {},
   "outputs": [
    {
     "name": "stdout",
     "output_type": "stream",
     "text": [
      "Epoch 1/5\n",
      "26356/26386 [============================>.] - ETA: 0s - loss: 0.0019 - rmspe: 0.2824 - mse: 0.0019WARNING:tensorflow:Reduce LR on plateau conditioned on metric `val_rmspe` which is not available. Available metrics are: loss,rmspe,mse,lr\n",
      "WARNING:tensorflow:Can save best model only with val_rmspe available, skipping.\n",
      "26386/26386 [==============================] - 21s 781us/step - loss: 0.0019 - rmspe: 0.2823 - mse: 0.0019\n",
      "Epoch 2/5\n",
      "26368/26386 [============================>.] - ETA: 0s - loss: 0.0018 - rmspe: 0.2664 - mse: 0.0018WARNING:tensorflow:Reduce LR on plateau conditioned on metric `val_rmspe` which is not available. Available metrics are: loss,rmspe,mse,lr\n",
      "WARNING:tensorflow:Can save best model only with val_rmspe available, skipping.\n",
      "26386/26386 [==============================] - 30s 1ms/step - loss: 0.0018 - rmspe: 0.2665 - mse: 0.0018\n",
      "Epoch 3/5\n",
      "26353/26386 [============================>.] - ETA: 0s - loss: 0.0018 - rmspe: 0.2648 - mse: 0.0018WARNING:tensorflow:Reduce LR on plateau conditioned on metric `val_rmspe` which is not available. Available metrics are: loss,rmspe,mse,lr\n",
      "WARNING:tensorflow:Can save best model only with val_rmspe available, skipping.\n",
      "26386/26386 [==============================] - 27s 1ms/step - loss: 0.0018 - rmspe: 0.2648 - mse: 0.0018\n",
      "Epoch 4/5\n",
      "26349/26386 [============================>.] - ETA: 0s - loss: 0.0017 - rmspe: 0.2639 - mse: 0.0017WARNING:tensorflow:Reduce LR on plateau conditioned on metric `val_rmspe` which is not available. Available metrics are: loss,rmspe,mse,lr\n",
      "WARNING:tensorflow:Can save best model only with val_rmspe available, skipping.\n",
      "26386/26386 [==============================] - 26s 1ms/step - loss: 0.0017 - rmspe: 0.2639 - mse: 0.0017\n",
      "Epoch 5/5\n",
      "26351/26386 [============================>.] - ETA: 0s - loss: 0.0017 - rmspe: 0.2633 - mse: 0.0017WARNING:tensorflow:Reduce LR on plateau conditioned on metric `val_rmspe` which is not available. Available metrics are: loss,rmspe,mse,lr\n",
      "WARNING:tensorflow:Can save best model only with val_rmspe available, skipping.\n",
      "26386/26386 [==============================] - 26s 971us/step - loss: 0.0017 - rmspe: 0.2633 - mse: 0.0017\n"
     ]
    }
   ],
   "source": [
    "epochs = 5\n",
    "model.compile(optimizers.Adam(lr=0.001), loss='mse', metrics=[rmspe, 'mse'])\n",
    "cbs = [callbacks.ReduceLROnPlateau(monitor='val_rmspe', mode='min', verbose=1, patience=2), callbacks.ModelCheckpoint('best_val_rmspe.hdf5', monitor='val_rmspe', mode='min', verbose=1, save_best_only=True)]\n",
    "if final_train:\n",
    "    model.fit(X_train, y_train, epochs=epochs, callbacks=cbs)\n",
    "else:\n",
    "    model.fit(X_train, y_train, epochs=epochs, validation_data=(X_val, y_val), callbacks=cbs)"
   ]
  },
  {
   "cell_type": "code",
   "execution_count": 64,
   "metadata": {},
   "outputs": [
    {
     "ename": "ValueError",
     "evalue": "You are trying to load a weight file containing 2 layers into a model with 4 layers.",
     "output_type": "error",
     "traceback": [
      "\u001b[1;31m---------------------------------------------------------------------------\u001b[0m",
      "\u001b[1;31mValueError\u001b[0m                                Traceback (most recent call last)",
      "\u001b[1;32m<ipython-input-64-53bba436ff85>\u001b[0m in \u001b[0;36m<module>\u001b[1;34m\u001b[0m\n\u001b[1;32m----> 1\u001b[1;33m \u001b[0mmodel\u001b[0m\u001b[1;33m.\u001b[0m\u001b[0mload_weights\u001b[0m\u001b[1;33m(\u001b[0m\u001b[1;34m'best_val_rmspe.hdf5'\u001b[0m\u001b[1;33m)\u001b[0m\u001b[1;33m\u001b[0m\u001b[1;33m\u001b[0m\u001b[0m\n\u001b[0m",
      "\u001b[1;32m~\\Anaconda3\\envs\\dip-ml-env\\lib\\site-packages\\tensorflow\\python\\keras\\engine\\training.py\u001b[0m in \u001b[0;36mload_weights\u001b[1;34m(self, filepath, by_name, skip_mismatch, options)\u001b[0m\n\u001b[0;32m   2209\u001b[0m             f, self.layers, skip_mismatch=skip_mismatch)\n\u001b[0;32m   2210\u001b[0m       \u001b[1;32melse\u001b[0m\u001b[1;33m:\u001b[0m\u001b[1;33m\u001b[0m\u001b[1;33m\u001b[0m\u001b[0m\n\u001b[1;32m-> 2211\u001b[1;33m         \u001b[0mhdf5_format\u001b[0m\u001b[1;33m.\u001b[0m\u001b[0mload_weights_from_hdf5_group\u001b[0m\u001b[1;33m(\u001b[0m\u001b[0mf\u001b[0m\u001b[1;33m,\u001b[0m \u001b[0mself\u001b[0m\u001b[1;33m.\u001b[0m\u001b[0mlayers\u001b[0m\u001b[1;33m)\u001b[0m\u001b[1;33m\u001b[0m\u001b[1;33m\u001b[0m\u001b[0m\n\u001b[0m\u001b[0;32m   2212\u001b[0m \u001b[1;33m\u001b[0m\u001b[0m\n\u001b[0;32m   2213\u001b[0m   \u001b[1;32mdef\u001b[0m \u001b[0m_updated_config\u001b[0m\u001b[1;33m(\u001b[0m\u001b[0mself\u001b[0m\u001b[1;33m)\u001b[0m\u001b[1;33m:\u001b[0m\u001b[1;33m\u001b[0m\u001b[1;33m\u001b[0m\u001b[0m\n",
      "\u001b[1;32m~\\Anaconda3\\envs\\dip-ml-env\\lib\\site-packages\\tensorflow\\python\\keras\\saving\\hdf5_format.py\u001b[0m in \u001b[0;36mload_weights_from_hdf5_group\u001b[1;34m(f, layers)\u001b[0m\n\u001b[0;32m    681\u001b[0m   \u001b[0mlayer_names\u001b[0m \u001b[1;33m=\u001b[0m \u001b[0mfiltered_layer_names\u001b[0m\u001b[1;33m\u001b[0m\u001b[1;33m\u001b[0m\u001b[0m\n\u001b[0;32m    682\u001b[0m   \u001b[1;32mif\u001b[0m \u001b[0mlen\u001b[0m\u001b[1;33m(\u001b[0m\u001b[0mlayer_names\u001b[0m\u001b[1;33m)\u001b[0m \u001b[1;33m!=\u001b[0m \u001b[0mlen\u001b[0m\u001b[1;33m(\u001b[0m\u001b[0mfiltered_layers\u001b[0m\u001b[1;33m)\u001b[0m\u001b[1;33m:\u001b[0m\u001b[1;33m\u001b[0m\u001b[1;33m\u001b[0m\u001b[0m\n\u001b[1;32m--> 683\u001b[1;33m     raise ValueError('You are trying to load a weight file '\n\u001b[0m\u001b[0;32m    684\u001b[0m                      \u001b[1;34m'containing '\u001b[0m \u001b[1;33m+\u001b[0m \u001b[0mstr\u001b[0m\u001b[1;33m(\u001b[0m\u001b[0mlen\u001b[0m\u001b[1;33m(\u001b[0m\u001b[0mlayer_names\u001b[0m\u001b[1;33m)\u001b[0m\u001b[1;33m)\u001b[0m \u001b[1;33m+\u001b[0m\u001b[1;33m\u001b[0m\u001b[1;33m\u001b[0m\u001b[0m\n\u001b[0;32m    685\u001b[0m                      \u001b[1;34m' layers into a model with '\u001b[0m \u001b[1;33m+\u001b[0m \u001b[0mstr\u001b[0m\u001b[1;33m(\u001b[0m\u001b[0mlen\u001b[0m\u001b[1;33m(\u001b[0m\u001b[0mfiltered_layers\u001b[0m\u001b[1;33m)\u001b[0m\u001b[1;33m)\u001b[0m \u001b[1;33m+\u001b[0m\u001b[1;33m\u001b[0m\u001b[1;33m\u001b[0m\u001b[0m\n",
      "\u001b[1;31mValueError\u001b[0m: You are trying to load a weight file containing 2 layers into a model with 4 layers."
     ]
    }
   ],
   "source": [
    "model.load_weights('best_val_rmspe.hdf5')"
   ]
  },
  {
   "cell_type": "code",
   "execution_count": 65,
   "metadata": {},
   "outputs": [
    {
     "data": {
      "image/png": "[encoded data removed]",
      "text/plain": [
       "<Figure size 432x288 with 1 Axes>"
      ]
     },
     "metadata": {
      "needs_background": "light"
     },
     "output_type": "display_data"
    }
   ],
   "source": [
    "weights = model.get_weights()[0]\n",
    "biases = model.get_weights()[1]\n",
    "\n",
    "fig, ax1 = plt.subplots(1)\n",
    "fig.suptitle('Distribución de pesos')\n",
    "ax1.hist(weights.flatten(),100)\n",
    "plt.show()\n"
   ]
  },
  {
   "cell_type": "code",
   "execution_count": 66,
   "metadata": {},
   "outputs": [
    {
     "name": "stdout",
     "output_type": "stream",
     "text": [
      "26386/26386 [==============================] - 16s 608us/step - loss: 0.0017 - rmspe: 0.2302 - mse: 0.0017\n"
     ]
    },
    {
     "data": {
      "text/plain": [
       "[0.001725885202176869, 0.23015093803405762, 0.001725885202176869]"
      ]
     },
     "execution_count": 66,
     "metadata": {},
     "output_type": "execute_result"
    }
   ],
   "source": [
    "model.evaluate(X_train, y_train)"
   ]
  },
  {
   "cell_type": "code",
   "execution_count": 67,
   "metadata": {},
   "outputs": [
    {
     "name": "stdout",
     "output_type": "stream",
     "text": [
      "944/944 [==============================] - 1s 653us/step - loss: 0.0013 - rmspe: 0.2070 - mse: 0.0013\n"
     ]
    },
    {
     "data": {
      "text/plain": [
       "[0.0013108111452311277, 0.2070227414369583, 0.0013108111452311277]"
      ]
     },
     "execution_count": 67,
     "metadata": {},
     "output_type": "execute_result"
    }
   ],
   "source": [
    "model.evaluate(X_val, y_val)"
   ]
  },
  {
   "cell_type": "code",
   "execution_count": 68,
   "metadata": {},
   "outputs": [],
   "source": [
    "from matplotlib import pyplot as plt"
   ]
  },
  {
   "cell_type": "code",
   "execution_count": 69,
   "metadata": {},
   "outputs": [],
   "source": [
    "def plot_embed(layer_name, cat_names):\n",
    "    Y = model.get_layer(layer_name).get_weights()[0]\n",
    "    print(Y.shape)\n",
    "    plt.figure(figsize=(8,8))\n",
    "    plt.scatter(-Y[:, 0], -Y[:, 1])\n",
    "    for i, txt in enumerate(cat_names):\n",
    "        plt.annotate(txt, (-Y[i, 0],-Y[i, 1]), xytext = (-5, 8), textcoords = 'offset points')"
   ]
  },
  {
   "cell_type": "code",
   "execution_count": 70,
   "metadata": {},
   "outputs": [
    {
     "name": "stdout",
     "output_type": "stream",
     "text": [
      "(7, 2)\n"
     ]
    },
    {
     "data": {
      "image/png": "[encoded data removed]",
      "text/plain": [
       "<Figure size 576x576 with 1 Axes>"
      ]
     },
     "metadata": {
      "needs_background": "light"
     },
     "output_type": "display_data"
    }
   ],
   "source": [
    "plot_embed('DayOfWeek_embedding', ['Mon', 'Tue', 'Wed', 'Thu', 'Fri', 'Sat','Sun'])"
   ]
  },
  {
   "cell_type": "code",
   "execution_count": 71,
   "metadata": {},
   "outputs": [
    {
     "name": "stdout",
     "output_type": "stream",
     "text": [
      "(1115, 2)\n"
     ]
    },
    {
     "data": {
      "image/png": "[encoded data removed]",
      "text/plain": [
       "<Figure size 576x576 with 1 Axes>"
      ]
     },
     "metadata": {
      "needs_background": "light"
     },
     "output_type": "display_data"
    }
   ],
   "source": [
    "plot_embed('Store_embedding', list(range(1115)))"
   ]
  },
  {
   "cell_type": "raw",
   "metadata": {},
   "source": [
    "Store, DayOfWeek: 0.09212721139192581, 0.048540305346250534\n",
    "Store, DayOfWeek, Week: 0.0615, 0.02256705053150654\n",
    "Store, DayOfWeek, Week, Month: 0.061621, 0.02359057404100895"
   ]
  },
  {
   "cell_type": "code",
   "execution_count": 72,
   "metadata": {},
   "outputs": [],
   "source": [
    "train_predictions = model.predict(X_train)*max_sales\n",
    "#get_metric(df_train['Sales'].values, train_predictions.reshape(-1))"
   ]
  },
  {
   "cell_type": "code",
   "execution_count": 73,
   "metadata": {},
   "outputs": [],
   "source": [
    "test_predictions = model.predict(X_test)*max_sales\n",
    "test_predictions[df_test['Open'] == 0] = 0"
   ]
  },
  {
   "cell_type": "code",
   "execution_count": 74,
   "metadata": {},
   "outputs": [],
   "source": [
    "sample_csv = pd.read_csv('dataset/rossmann/sample_submission.csv')\n",
    "sample_csv['Sales'] = test_predictions\n",
    "sample_csv.head()\n",
    "\n",
    "sample_csv.to_csv(f'submision_baseline_{\"-\".join(X_columns)}.csv', index=False)\n"
   ]
  },
  {
   "cell_type": "code",
   "execution_count": 77,
   "metadata": {},
   "outputs": [
    {
     "name": "stdout",
     "output_type": "stream",
     "text": [
      "Warning: Looks like you're using an outdated API Version, please consider updating (server 1.5.12 / client 1.5.10)"
     ]
    },
    {
     "name": "stderr",
     "output_type": "stream",
     "text": [
      "\n",
      "  0%|          | 0.00/617k [00:00<?, ?B/s]\n",
      "  1%|1         | 8.00k/617k [00:00<00:09, 65.5kB/s]\n",
      " 35%|###5      | 216k/617k [00:00<00:00, 1.07MB/s] \n",
      " 95%|#########4| 584k/617k [00:00<00:00, 2.14MB/s]\n",
      "100%|##########| 617k/617k [00:02<00:00, 233kB/s] \n"
     ]
    },
    {
     "name": "stdout",
     "output_type": "stream",
     "text": [
      "\n",
      "Successfully submitted to Rossmann Store Sales\n"
     ]
    }
   ],
   "source": [
    "!kaggle competitions submit -c rossmann-store-sales -f \"submision_baseline_{\"-\".join(X_columns)}.csv\" -m \"baseline\""
   ]
  },
  {
   "cell_type": "code",
   "execution_count": null,
   "metadata": {},
   "outputs": [],
   "source": []
  }
 ],
 "metadata": {
  "kernelspec": {
   "display_name": "Python 3",
   "language": "python",
   "name": "python3"
  },
  "language_info": {
   "codemirror_mode": {
    "name": "ipython",
    "version": 3
   },
   "file_extension": ".py",
   "mimetype": "text/x-python",
   "name": "python",
   "nbconvert_exporter": "python",
   "pygments_lexer": "ipython3",
   "version": "3.8.5"
  }
 },
 "nbformat": 4,
 "nbformat_minor": 4
}
