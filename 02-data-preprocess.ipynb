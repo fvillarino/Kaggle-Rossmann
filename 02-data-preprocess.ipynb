{
 "cells": [
  {
   "cell_type": "code",
   "execution_count": 1,
   "metadata": {},
   "outputs": [],
   "source": [
    "import pandas as pd\n",
    "import numpy as np\n",
    "import datetime\n",
    "# pip install isoweek\n",
    "from isoweek import Week\n",
    "PATH = 'dataset/rossmann/'"
   ]
  },
  {
   "cell_type": "code",
   "execution_count": 2,
   "metadata": {},
   "outputs": [],
   "source": [
    "table_names = ['train', 'test', 'store', 'store_states', 'state_names', 'googletrend', 'weather']\n",
    "train, test, store, store_states, state_names, googletrend, weather = dfs = [pd.read_csv(PATH + fname+'.csv', \n",
    "                                                                             low_memory=False) for fname in table_names]"
   ]
  },
  {
   "cell_type": "markdown",
   "metadata": {},
   "source": [
    "# Missing data "
   ]
  },
  {
   "cell_type": "code",
   "execution_count": 3,
   "metadata": {},
   "outputs": [],
   "source": [
    "def get_missing_columns(df):\n",
    "    return list(df.columns[df.describe(include = 'all').loc['count']<len(df)])"
   ]
  },
  {
   "cell_type": "code",
   "execution_count": 4,
   "metadata": {},
   "outputs": [
    {
     "name": "stdout",
     "output_type": "stream",
     "text": [
      "train []\n",
      "test ['Open']\n",
      "store ['CompetitionDistance', 'CompetitionOpenSinceMonth', 'CompetitionOpenSinceYear', 'Promo2SinceWeek', 'Promo2SinceYear', 'PromoInterval']\n",
      "store_states []\n",
      "state_names []\n",
      "googletrend []\n",
      "weather ['Max_VisibilityKm', 'Mean_VisibilityKm', 'Min_VisibilitykM', 'Max_Gust_SpeedKm_h', 'CloudCover', 'Events']\n"
     ]
    }
   ],
   "source": [
    "for i, df in enumerate(dfs):\n",
    "    print(table_names[i], get_missing_columns(df))"
   ]
  },
  {
   "cell_type": "code",
   "execution_count": 5,
   "metadata": {},
   "outputs": [
    {
     "data": {
      "text/plain": [
       "479      4\n",
       "1335     3\n",
       "2191     2\n",
       "3047     1\n",
       "4759     6\n",
       "5615     5\n",
       "6471     4\n",
       "7327     3\n",
       "8183     2\n",
       "9039     1\n",
       "10751    6\n",
       "Name: DayOfWeek, dtype: int64"
      ]
     },
     "execution_count": 5,
     "metadata": {},
     "output_type": "execute_result"
    }
   ],
   "source": [
    "test[test['Open'].isna()]['DayOfWeek']"
   ]
  },
  {
   "cell_type": "code",
   "execution_count": 6,
   "metadata": {},
   "outputs": [
    {
     "data": {
      "text/html": [
       "<div>\n",
       "<style scoped>\n",
       "    .dataframe tbody tr th:only-of-type {\n",
       "        vertical-align: middle;\n",
       "    }\n",
       "\n",
       "    .dataframe tbody tr th {\n",
       "        vertical-align: top;\n",
       "    }\n",
       "\n",
       "    .dataframe thead th {\n",
       "        text-align: right;\n",
       "    }\n",
       "</style>\n",
       "<table border=\"1\" class=\"dataframe\">\n",
       "  <thead>\n",
       "    <tr style=\"text-align: right;\">\n",
       "      <th></th>\n",
       "      <th>Id</th>\n",
       "      <th>Store</th>\n",
       "      <th>DayOfWeek</th>\n",
       "      <th>Date</th>\n",
       "      <th>Open</th>\n",
       "      <th>Promo</th>\n",
       "      <th>StateHoliday</th>\n",
       "      <th>SchoolHoliday</th>\n",
       "    </tr>\n",
       "  </thead>\n",
       "  <tbody>\n",
       "    <tr>\n",
       "      <th>479</th>\n",
       "      <td>480</td>\n",
       "      <td>622</td>\n",
       "      <td>4</td>\n",
       "      <td>2015-09-17</td>\n",
       "      <td>NaN</td>\n",
       "      <td>1</td>\n",
       "      <td>0</td>\n",
       "      <td>0</td>\n",
       "    </tr>\n",
       "    <tr>\n",
       "      <th>1335</th>\n",
       "      <td>1336</td>\n",
       "      <td>622</td>\n",
       "      <td>3</td>\n",
       "      <td>2015-09-16</td>\n",
       "      <td>NaN</td>\n",
       "      <td>1</td>\n",
       "      <td>0</td>\n",
       "      <td>0</td>\n",
       "    </tr>\n",
       "    <tr>\n",
       "      <th>2191</th>\n",
       "      <td>2192</td>\n",
       "      <td>622</td>\n",
       "      <td>2</td>\n",
       "      <td>2015-09-15</td>\n",
       "      <td>NaN</td>\n",
       "      <td>1</td>\n",
       "      <td>0</td>\n",
       "      <td>0</td>\n",
       "    </tr>\n",
       "    <tr>\n",
       "      <th>3047</th>\n",
       "      <td>3048</td>\n",
       "      <td>622</td>\n",
       "      <td>1</td>\n",
       "      <td>2015-09-14</td>\n",
       "      <td>NaN</td>\n",
       "      <td>1</td>\n",
       "      <td>0</td>\n",
       "      <td>0</td>\n",
       "    </tr>\n",
       "    <tr>\n",
       "      <th>4759</th>\n",
       "      <td>4760</td>\n",
       "      <td>622</td>\n",
       "      <td>6</td>\n",
       "      <td>2015-09-12</td>\n",
       "      <td>NaN</td>\n",
       "      <td>0</td>\n",
       "      <td>0</td>\n",
       "      <td>0</td>\n",
       "    </tr>\n",
       "    <tr>\n",
       "      <th>5615</th>\n",
       "      <td>5616</td>\n",
       "      <td>622</td>\n",
       "      <td>5</td>\n",
       "      <td>2015-09-11</td>\n",
       "      <td>NaN</td>\n",
       "      <td>0</td>\n",
       "      <td>0</td>\n",
       "      <td>0</td>\n",
       "    </tr>\n",
       "    <tr>\n",
       "      <th>6471</th>\n",
       "      <td>6472</td>\n",
       "      <td>622</td>\n",
       "      <td>4</td>\n",
       "      <td>2015-09-10</td>\n",
       "      <td>NaN</td>\n",
       "      <td>0</td>\n",
       "      <td>0</td>\n",
       "      <td>0</td>\n",
       "    </tr>\n",
       "    <tr>\n",
       "      <th>7327</th>\n",
       "      <td>7328</td>\n",
       "      <td>622</td>\n",
       "      <td>3</td>\n",
       "      <td>2015-09-09</td>\n",
       "      <td>NaN</td>\n",
       "      <td>0</td>\n",
       "      <td>0</td>\n",
       "      <td>0</td>\n",
       "    </tr>\n",
       "    <tr>\n",
       "      <th>8183</th>\n",
       "      <td>8184</td>\n",
       "      <td>622</td>\n",
       "      <td>2</td>\n",
       "      <td>2015-09-08</td>\n",
       "      <td>NaN</td>\n",
       "      <td>0</td>\n",
       "      <td>0</td>\n",
       "      <td>0</td>\n",
       "    </tr>\n",
       "    <tr>\n",
       "      <th>9039</th>\n",
       "      <td>9040</td>\n",
       "      <td>622</td>\n",
       "      <td>1</td>\n",
       "      <td>2015-09-07</td>\n",
       "      <td>NaN</td>\n",
       "      <td>0</td>\n",
       "      <td>0</td>\n",
       "      <td>0</td>\n",
       "    </tr>\n",
       "    <tr>\n",
       "      <th>10751</th>\n",
       "      <td>10752</td>\n",
       "      <td>622</td>\n",
       "      <td>6</td>\n",
       "      <td>2015-09-05</td>\n",
       "      <td>NaN</td>\n",
       "      <td>0</td>\n",
       "      <td>0</td>\n",
       "      <td>0</td>\n",
       "    </tr>\n",
       "  </tbody>\n",
       "</table>\n",
       "</div>"
      ],
      "text/plain": [
       "          Id  Store  DayOfWeek        Date  Open  Promo StateHoliday  \\\n",
       "479      480    622          4  2015-09-17   NaN      1            0   \n",
       "1335    1336    622          3  2015-09-16   NaN      1            0   \n",
       "2191    2192    622          2  2015-09-15   NaN      1            0   \n",
       "3047    3048    622          1  2015-09-14   NaN      1            0   \n",
       "4759    4760    622          6  2015-09-12   NaN      0            0   \n",
       "5615    5616    622          5  2015-09-11   NaN      0            0   \n",
       "6471    6472    622          4  2015-09-10   NaN      0            0   \n",
       "7327    7328    622          3  2015-09-09   NaN      0            0   \n",
       "8183    8184    622          2  2015-09-08   NaN      0            0   \n",
       "9039    9040    622          1  2015-09-07   NaN      0            0   \n",
       "10751  10752    622          6  2015-09-05   NaN      0            0   \n",
       "\n",
       "       SchoolHoliday  \n",
       "479                0  \n",
       "1335               0  \n",
       "2191               0  \n",
       "3047               0  \n",
       "4759               0  \n",
       "5615               0  \n",
       "6471               0  \n",
       "7327               0  \n",
       "8183               0  \n",
       "9039               0  \n",
       "10751              0  "
      ]
     },
     "execution_count": 6,
     "metadata": {},
     "output_type": "execute_result"
    }
   ],
   "source": [
    "test.loc[test['Open'].isna()]"
   ]
  },
  {
   "cell_type": "code",
   "execution_count": null,
   "metadata": {},
   "outputs": [],
   "source": []
  },
  {
   "cell_type": "code",
   "execution_count": 7,
   "metadata": {},
   "outputs": [],
   "source": [
    "# Si no es dia 7 esta abierto - Verificado que el store 622 esta usualmente cerrado el día 7\n",
    "test.loc[test['Open'].isna(), 'Open'] = (test[test['Open'].isna()]['DayOfWeek'] != 7)*1.0"
   ]
  },
  {
   "cell_type": "code",
   "execution_count": 8,
   "metadata": {},
   "outputs": [
    {
     "data": {
      "text/html": [
       "<div>\n",
       "<style scoped>\n",
       "    .dataframe tbody tr th:only-of-type {\n",
       "        vertical-align: middle;\n",
       "    }\n",
       "\n",
       "    .dataframe tbody tr th {\n",
       "        vertical-align: top;\n",
       "    }\n",
       "\n",
       "    .dataframe thead th {\n",
       "        text-align: right;\n",
       "    }\n",
       "</style>\n",
       "<table border=\"1\" class=\"dataframe\">\n",
       "  <thead>\n",
       "    <tr style=\"text-align: right;\">\n",
       "      <th></th>\n",
       "      <th>Store</th>\n",
       "      <th>StoreType</th>\n",
       "      <th>Assortment</th>\n",
       "      <th>CompetitionDistance</th>\n",
       "      <th>CompetitionOpenSinceMonth</th>\n",
       "      <th>CompetitionOpenSinceYear</th>\n",
       "      <th>Promo2</th>\n",
       "      <th>Promo2SinceWeek</th>\n",
       "      <th>Promo2SinceYear</th>\n",
       "      <th>PromoInterval</th>\n",
       "    </tr>\n",
       "  </thead>\n",
       "  <tbody>\n",
       "    <tr>\n",
       "      <th>0</th>\n",
       "      <td>1</td>\n",
       "      <td>c</td>\n",
       "      <td>a</td>\n",
       "      <td>1270.0</td>\n",
       "      <td>9.0</td>\n",
       "      <td>2008.0</td>\n",
       "      <td>0</td>\n",
       "      <td>NaN</td>\n",
       "      <td>NaN</td>\n",
       "      <td>NaN</td>\n",
       "    </tr>\n",
       "    <tr>\n",
       "      <th>1</th>\n",
       "      <td>2</td>\n",
       "      <td>a</td>\n",
       "      <td>a</td>\n",
       "      <td>570.0</td>\n",
       "      <td>11.0</td>\n",
       "      <td>2007.0</td>\n",
       "      <td>1</td>\n",
       "      <td>13.0</td>\n",
       "      <td>2010.0</td>\n",
       "      <td>Jan,Apr,Jul,Oct</td>\n",
       "    </tr>\n",
       "    <tr>\n",
       "      <th>2</th>\n",
       "      <td>3</td>\n",
       "      <td>a</td>\n",
       "      <td>a</td>\n",
       "      <td>14130.0</td>\n",
       "      <td>12.0</td>\n",
       "      <td>2006.0</td>\n",
       "      <td>1</td>\n",
       "      <td>14.0</td>\n",
       "      <td>2011.0</td>\n",
       "      <td>Jan,Apr,Jul,Oct</td>\n",
       "    </tr>\n",
       "    <tr>\n",
       "      <th>3</th>\n",
       "      <td>4</td>\n",
       "      <td>c</td>\n",
       "      <td>c</td>\n",
       "      <td>620.0</td>\n",
       "      <td>9.0</td>\n",
       "      <td>2009.0</td>\n",
       "      <td>0</td>\n",
       "      <td>NaN</td>\n",
       "      <td>NaN</td>\n",
       "      <td>NaN</td>\n",
       "    </tr>\n",
       "    <tr>\n",
       "      <th>4</th>\n",
       "      <td>5</td>\n",
       "      <td>a</td>\n",
       "      <td>a</td>\n",
       "      <td>29910.0</td>\n",
       "      <td>4.0</td>\n",
       "      <td>2015.0</td>\n",
       "      <td>0</td>\n",
       "      <td>NaN</td>\n",
       "      <td>NaN</td>\n",
       "      <td>NaN</td>\n",
       "    </tr>\n",
       "    <tr>\n",
       "      <th>...</th>\n",
       "      <td>...</td>\n",
       "      <td>...</td>\n",
       "      <td>...</td>\n",
       "      <td>...</td>\n",
       "      <td>...</td>\n",
       "      <td>...</td>\n",
       "      <td>...</td>\n",
       "      <td>...</td>\n",
       "      <td>...</td>\n",
       "      <td>...</td>\n",
       "    </tr>\n",
       "    <tr>\n",
       "      <th>1110</th>\n",
       "      <td>1111</td>\n",
       "      <td>a</td>\n",
       "      <td>a</td>\n",
       "      <td>1900.0</td>\n",
       "      <td>6.0</td>\n",
       "      <td>2014.0</td>\n",
       "      <td>1</td>\n",
       "      <td>31.0</td>\n",
       "      <td>2013.0</td>\n",
       "      <td>Jan,Apr,Jul,Oct</td>\n",
       "    </tr>\n",
       "    <tr>\n",
       "      <th>1111</th>\n",
       "      <td>1112</td>\n",
       "      <td>c</td>\n",
       "      <td>c</td>\n",
       "      <td>1880.0</td>\n",
       "      <td>4.0</td>\n",
       "      <td>2006.0</td>\n",
       "      <td>0</td>\n",
       "      <td>NaN</td>\n",
       "      <td>NaN</td>\n",
       "      <td>NaN</td>\n",
       "    </tr>\n",
       "    <tr>\n",
       "      <th>1112</th>\n",
       "      <td>1113</td>\n",
       "      <td>a</td>\n",
       "      <td>c</td>\n",
       "      <td>9260.0</td>\n",
       "      <td>NaN</td>\n",
       "      <td>NaN</td>\n",
       "      <td>0</td>\n",
       "      <td>NaN</td>\n",
       "      <td>NaN</td>\n",
       "      <td>NaN</td>\n",
       "    </tr>\n",
       "    <tr>\n",
       "      <th>1113</th>\n",
       "      <td>1114</td>\n",
       "      <td>a</td>\n",
       "      <td>c</td>\n",
       "      <td>870.0</td>\n",
       "      <td>NaN</td>\n",
       "      <td>NaN</td>\n",
       "      <td>0</td>\n",
       "      <td>NaN</td>\n",
       "      <td>NaN</td>\n",
       "      <td>NaN</td>\n",
       "    </tr>\n",
       "    <tr>\n",
       "      <th>1114</th>\n",
       "      <td>1115</td>\n",
       "      <td>d</td>\n",
       "      <td>c</td>\n",
       "      <td>5350.0</td>\n",
       "      <td>NaN</td>\n",
       "      <td>NaN</td>\n",
       "      <td>1</td>\n",
       "      <td>22.0</td>\n",
       "      <td>2012.0</td>\n",
       "      <td>Mar,Jun,Sept,Dec</td>\n",
       "    </tr>\n",
       "  </tbody>\n",
       "</table>\n",
       "<p>1115 rows × 10 columns</p>\n",
       "</div>"
      ],
      "text/plain": [
       "      Store StoreType Assortment  CompetitionDistance  \\\n",
       "0         1         c          a               1270.0   \n",
       "1         2         a          a                570.0   \n",
       "2         3         a          a              14130.0   \n",
       "3         4         c          c                620.0   \n",
       "4         5         a          a              29910.0   \n",
       "...     ...       ...        ...                  ...   \n",
       "1110   1111         a          a               1900.0   \n",
       "1111   1112         c          c               1880.0   \n",
       "1112   1113         a          c               9260.0   \n",
       "1113   1114         a          c                870.0   \n",
       "1114   1115         d          c               5350.0   \n",
       "\n",
       "      CompetitionOpenSinceMonth  CompetitionOpenSinceYear  Promo2  \\\n",
       "0                           9.0                    2008.0       0   \n",
       "1                          11.0                    2007.0       1   \n",
       "2                          12.0                    2006.0       1   \n",
       "3                           9.0                    2009.0       0   \n",
       "4                           4.0                    2015.0       0   \n",
       "...                         ...                       ...     ...   \n",
       "1110                        6.0                    2014.0       1   \n",
       "1111                        4.0                    2006.0       0   \n",
       "1112                        NaN                       NaN       0   \n",
       "1113                        NaN                       NaN       0   \n",
       "1114                        NaN                       NaN       1   \n",
       "\n",
       "      Promo2SinceWeek  Promo2SinceYear     PromoInterval  \n",
       "0                 NaN              NaN               NaN  \n",
       "1                13.0           2010.0   Jan,Apr,Jul,Oct  \n",
       "2                14.0           2011.0   Jan,Apr,Jul,Oct  \n",
       "3                 NaN              NaN               NaN  \n",
       "4                 NaN              NaN               NaN  \n",
       "...               ...              ...               ...  \n",
       "1110             31.0           2013.0   Jan,Apr,Jul,Oct  \n",
       "1111              NaN              NaN               NaN  \n",
       "1112              NaN              NaN               NaN  \n",
       "1113              NaN              NaN               NaN  \n",
       "1114             22.0           2012.0  Mar,Jun,Sept,Dec  \n",
       "\n",
       "[1115 rows x 10 columns]"
      ]
     },
     "execution_count": 8,
     "metadata": {},
     "output_type": "execute_result"
    }
   ],
   "source": [
    "store"
   ]
  },
  {
   "cell_type": "code",
   "execution_count": 9,
   "metadata": {},
   "outputs": [],
   "source": [
    "# Fechas de las mas antiguas segun datos y tambien las fechas anteriores las pongo como minimo en 1990\n",
    "store.loc[store['CompetitionOpenSinceYear'].isna() | (store['CompetitionOpenSinceYear']<1990), 'CompetitionOpenSinceYear'] = np.int32(1990)\n",
    "store.loc[store['CompetitionOpenSinceMonth'].isna() | (store['CompetitionOpenSinceYear']<1990), 'CompetitionOpenSinceMonth'] = np.int32(1)"
   ]
  },
  {
   "cell_type": "code",
   "execution_count": 10,
   "metadata": {},
   "outputs": [
    {
     "name": "stdout",
     "output_type": "stream",
     "text": [
      "75860.0 5404.901079136691 20.0\n"
     ]
    }
   ],
   "source": [
    "# Si no tengo la distancia, supongo que no hay (Como si estuviera lejos)\n",
    "print(store['CompetitionDistance'].max(), store['CompetitionDistance'].mean(), store['CompetitionDistance'].min())\n",
    "store.loc[store['CompetitionDistance'].isna(), 'CompetitionDistance'] = store['CompetitionDistance'].max()"
   ]
  },
  {
   "cell_type": "code",
   "execution_count": 11,
   "metadata": {},
   "outputs": [],
   "source": [
    "# Si no tiene Promo2 entonces la semana en donde empezo es cero. Esto será tratado como categórica por eso tiene sentido\n",
    "store.loc[store['Promo2SinceWeek'].isna() & (store['Promo2'] == 0), 'Promo2SinceWeek'] = np.int32(1)\n",
    "store.loc[store['Promo2SinceYear'].isna() & (store['Promo2'] == 0), 'Promo2SinceYear'] = np.int32(1990)\n",
    "store.loc[store['PromoInterval'].isna() & (store['Promo2'] == 0), 'PromoInterval'] = '-'"
   ]
  },
  {
   "cell_type": "code",
   "execution_count": 12,
   "metadata": {},
   "outputs": [],
   "source": [
    "# Supongo que son dias tranquilos (de todas formas no se usaran para la predicción)\n",
    "weather.loc[weather['Max_VisibilityKm'].isna(), 'Max_VisibilityKm'] = weather['Max_VisibilityKm'].max()\n",
    "weather.loc[weather['Mean_VisibilityKm'].isna(), 'Mean_VisibilityKm'] = weather['Mean_VisibilityKm'].max()\n",
    "weather.loc[weather['Min_VisibilitykM'].isna(), 'Min_VisibilitykM'] = weather['Min_VisibilitykM'].max()\n",
    "weather.loc[weather['Max_Gust_SpeedKm_h'].isna(), 'Max_Gust_SpeedKm_h'] = weather['Max_Gust_SpeedKm_h'].min()\n",
    "weather.loc[weather['CloudCover'].isna(), 'CloudCover'] = weather['CloudCover'].min()\n",
    "weather.loc[weather['Events'].isna(), 'Events'] = 'Sunny'"
   ]
  },
  {
   "cell_type": "code",
   "execution_count": 13,
   "metadata": {},
   "outputs": [
    {
     "name": "stdout",
     "output_type": "stream",
     "text": [
      "train []\n",
      "test []\n",
      "store []\n",
      "store_states []\n",
      "state_names []\n",
      "googletrend []\n",
      "weather []\n"
     ]
    }
   ],
   "source": [
    "for i, df in enumerate(dfs):\n",
    "    print(table_names[i], get_missing_columns(df))"
   ]
  },
  {
   "cell_type": "markdown",
   "metadata": {},
   "source": [
    "# Paso a fecha algunas columnas para despues poder ponerla en días respecto a fecha"
   ]
  },
  {
   "cell_type": "code",
   "execution_count": 16,
   "metadata": {},
   "outputs": [
    {
     "data": {
      "text/plain": [
       "0       2008\n",
       "1       2007\n",
       "2       2006\n",
       "3       2009\n",
       "4       2015\n",
       "        ... \n",
       "1110    2014\n",
       "1111    2006\n",
       "1112    1990\n",
       "1113    1990\n",
       "1114    1990\n",
       "Name: CompetitionOpenSinceYear, Length: 1115, dtype: int32"
      ]
     },
     "execution_count": 16,
     "metadata": {},
     "output_type": "execute_result"
    }
   ],
   "source": [
    "store['CompetitionOpenSinceYear']"
   ]
  },
  {
   "cell_type": "code",
   "execution_count": 15,
   "metadata": {},
   "outputs": [],
   "source": [
    "store['CompetitionOpenSinceYear'] = store['CompetitionOpenSinceYear'].astype(np.int32)\n",
    "store['CompetitionOpenSinceMonth'] = store['CompetitionOpenSinceMonth'].astype(np.int32)\n",
    "store['Promo2SinceWeek'] = store['Promo2SinceWeek'].astype(np.int32)\n",
    "store['Promo2SinceYear'] = store['Promo2SinceYear'].astype(np.int32)"
   ]
  },
  {
   "cell_type": "code",
   "execution_count": 17,
   "metadata": {},
   "outputs": [],
   "source": [
    "# Creo una nueva columna con fecha de apertura en formato de fecha (dia 15 por que no tengo el dato y no es relevante)\n",
    "store['CompetitionOpenSince'] = pd.to_datetime(store.apply(lambda x: datetime.datetime(\n",
    "    x.CompetitionOpenSinceYear, x.CompetitionOpenSinceMonth, 15), axis=1))"
   ]
  },
  {
   "cell_type": "code",
   "execution_count": 18,
   "metadata": {},
   "outputs": [],
   "source": [
    "store[\"Promo2Since\"] = pd.to_datetime(store.apply(lambda x: Week(\n",
    "    x.Promo2SinceYear, x.Promo2SinceWeek).monday(), axis=1))"
   ]
  },
  {
   "cell_type": "code",
   "execution_count": 19,
   "metadata": {},
   "outputs": [
    {
     "data": {
      "text/plain": [
       "0      1990-01-01\n",
       "1      2010-03-29\n",
       "2      2011-04-04\n",
       "3      1990-01-01\n",
       "4      1990-01-01\n",
       "          ...    \n",
       "1110   2013-07-29\n",
       "1111   1990-01-01\n",
       "1112   1990-01-01\n",
       "1113   1990-01-01\n",
       "1114   2012-05-28\n",
       "Name: Promo2Since, Length: 1115, dtype: datetime64[ns]"
      ]
     },
     "execution_count": 19,
     "metadata": {},
     "output_type": "execute_result"
    }
   ],
   "source": [
    "store['Promo2Since']"
   ]
  },
  {
   "cell_type": "markdown",
   "metadata": {},
   "source": [
    "# Función para hacer el join"
   ]
  },
  {
   "cell_type": "code",
   "execution_count": 20,
   "metadata": {},
   "outputs": [],
   "source": [
    "def join_df(left, right, left_on, right_on=None):\n",
    "    if right_on is None: right_on = left_on\n",
    "    return left.merge(right, how='left', left_on=left_on, right_on=right_on, \n",
    "                      suffixes=(\"\", \"_y\"))"
   ]
  },
  {
   "cell_type": "markdown",
   "metadata": {},
   "source": [
    "## Join entre weather y states_names"
   ]
  },
  {
   "cell_type": "code",
   "execution_count": 21,
   "metadata": {},
   "outputs": [
    {
     "data": {
      "text/plain": [
       "Index(['file', 'Date', 'Max_TemperatureC', 'Mean_TemperatureC',\n",
       "       'Min_TemperatureC', 'Dew_PointC', 'MeanDew_PointC', 'Min_DewpointC',\n",
       "       'Max_Humidity', 'Mean_Humidity', 'Min_Humidity',\n",
       "       'Max_Sea_Level_PressurehPa', 'Mean_Sea_Level_PressurehPa',\n",
       "       'Min_Sea_Level_PressurehPa', 'Max_VisibilityKm', 'Mean_VisibilityKm',\n",
       "       'Min_VisibilitykM', 'Max_Wind_SpeedKm_h', 'Mean_Wind_SpeedKm_h',\n",
       "       'Max_Gust_SpeedKm_h', 'Precipitationmm', 'CloudCover', 'Events',\n",
       "       'WindDirDegrees'],\n",
       "      dtype='object')"
      ]
     },
     "execution_count": 21,
     "metadata": {},
     "output_type": "execute_result"
    }
   ],
   "source": [
    "weather.columns"
   ]
  },
  {
   "cell_type": "code",
   "execution_count": 22,
   "metadata": {},
   "outputs": [
    {
     "data": {
      "text/plain": [
       "MecklenburgVorpommern    990\n",
       "Brandenburg              990\n",
       "NordrheinWestfalen       990\n",
       "Hamburg                  990\n",
       "BadenWuerttemberg        990\n",
       "SachsenAnhalt            990\n",
       "SchleswigHolstein        990\n",
       "Saarland                 990\n",
       "Hessen                   990\n",
       "RheinlandPfalz           990\n",
       "Bremen                   990\n",
       "Berlin                   990\n",
       "Niedersachsen            990\n",
       "Sachsen                  990\n",
       "Bayern                   990\n",
       "Thueringen               990\n",
       "Name: file, dtype: int64"
      ]
     },
     "execution_count": 22,
     "metadata": {},
     "output_type": "execute_result"
    }
   ],
   "source": [
    "weather['file'].value_counts()"
   ]
  },
  {
   "cell_type": "code",
   "execution_count": 23,
   "metadata": {},
   "outputs": [
    {
     "data": {
      "text/html": [
       "<div>\n",
       "<style scoped>\n",
       "    .dataframe tbody tr th:only-of-type {\n",
       "        vertical-align: middle;\n",
       "    }\n",
       "\n",
       "    .dataframe tbody tr th {\n",
       "        vertical-align: top;\n",
       "    }\n",
       "\n",
       "    .dataframe thead th {\n",
       "        text-align: right;\n",
       "    }\n",
       "</style>\n",
       "<table border=\"1\" class=\"dataframe\">\n",
       "  <thead>\n",
       "    <tr style=\"text-align: right;\">\n",
       "      <th></th>\n",
       "      <th>StateName</th>\n",
       "      <th>State</th>\n",
       "    </tr>\n",
       "  </thead>\n",
       "  <tbody>\n",
       "    <tr>\n",
       "      <th>0</th>\n",
       "      <td>BadenWuerttemberg</td>\n",
       "      <td>BW</td>\n",
       "    </tr>\n",
       "    <tr>\n",
       "      <th>1</th>\n",
       "      <td>Bayern</td>\n",
       "      <td>BY</td>\n",
       "    </tr>\n",
       "    <tr>\n",
       "      <th>2</th>\n",
       "      <td>Berlin</td>\n",
       "      <td>BE</td>\n",
       "    </tr>\n",
       "    <tr>\n",
       "      <th>3</th>\n",
       "      <td>Brandenburg</td>\n",
       "      <td>BB</td>\n",
       "    </tr>\n",
       "    <tr>\n",
       "      <th>4</th>\n",
       "      <td>Bremen</td>\n",
       "      <td>HB</td>\n",
       "    </tr>\n",
       "    <tr>\n",
       "      <th>5</th>\n",
       "      <td>Hamburg</td>\n",
       "      <td>HH</td>\n",
       "    </tr>\n",
       "    <tr>\n",
       "      <th>6</th>\n",
       "      <td>Hessen</td>\n",
       "      <td>HE</td>\n",
       "    </tr>\n",
       "    <tr>\n",
       "      <th>7</th>\n",
       "      <td>MecklenburgVorpommern</td>\n",
       "      <td>MV</td>\n",
       "    </tr>\n",
       "    <tr>\n",
       "      <th>8</th>\n",
       "      <td>Niedersachsen</td>\n",
       "      <td>HB,NI</td>\n",
       "    </tr>\n",
       "    <tr>\n",
       "      <th>9</th>\n",
       "      <td>NordrheinWestfalen</td>\n",
       "      <td>NW</td>\n",
       "    </tr>\n",
       "    <tr>\n",
       "      <th>10</th>\n",
       "      <td>RheinlandPfalz</td>\n",
       "      <td>RP</td>\n",
       "    </tr>\n",
       "    <tr>\n",
       "      <th>11</th>\n",
       "      <td>Saarland</td>\n",
       "      <td>SL</td>\n",
       "    </tr>\n",
       "    <tr>\n",
       "      <th>12</th>\n",
       "      <td>Sachsen</td>\n",
       "      <td>SN</td>\n",
       "    </tr>\n",
       "    <tr>\n",
       "      <th>13</th>\n",
       "      <td>SachsenAnhalt</td>\n",
       "      <td>ST</td>\n",
       "    </tr>\n",
       "    <tr>\n",
       "      <th>14</th>\n",
       "      <td>SchleswigHolstein</td>\n",
       "      <td>SH</td>\n",
       "    </tr>\n",
       "    <tr>\n",
       "      <th>15</th>\n",
       "      <td>Thueringen</td>\n",
       "      <td>TH</td>\n",
       "    </tr>\n",
       "  </tbody>\n",
       "</table>\n",
       "</div>"
      ],
      "text/plain": [
       "                StateName  State\n",
       "0       BadenWuerttemberg     BW\n",
       "1                  Bayern     BY\n",
       "2                  Berlin     BE\n",
       "3             Brandenburg     BB\n",
       "4                  Bremen     HB\n",
       "5                 Hamburg     HH\n",
       "6                  Hessen     HE\n",
       "7   MecklenburgVorpommern     MV\n",
       "8           Niedersachsen  HB,NI\n",
       "9      NordrheinWestfalen     NW\n",
       "10         RheinlandPfalz     RP\n",
       "11               Saarland     SL\n",
       "12                Sachsen     SN\n",
       "13          SachsenAnhalt     ST\n",
       "14      SchleswigHolstein     SH\n",
       "15             Thueringen     TH"
      ]
     },
     "execution_count": 23,
     "metadata": {},
     "output_type": "execute_result"
    }
   ],
   "source": [
    "state_names"
   ]
  },
  {
   "cell_type": "code",
   "execution_count": 24,
   "metadata": {},
   "outputs": [],
   "source": [
    "weather = join_df(weather, state_names, \"file\", \"StateName\")"
   ]
  },
  {
   "cell_type": "code",
   "execution_count": 25,
   "metadata": {},
   "outputs": [
    {
     "data": {
      "text/plain": [
       "Index(['file', 'Date', 'Max_TemperatureC', 'Mean_TemperatureC',\n",
       "       'Min_TemperatureC', 'Dew_PointC', 'MeanDew_PointC', 'Min_DewpointC',\n",
       "       'Max_Humidity', 'Mean_Humidity', 'Min_Humidity',\n",
       "       'Max_Sea_Level_PressurehPa', 'Mean_Sea_Level_PressurehPa',\n",
       "       'Min_Sea_Level_PressurehPa', 'Max_VisibilityKm', 'Mean_VisibilityKm',\n",
       "       'Min_VisibilitykM', 'Max_Wind_SpeedKm_h', 'Mean_Wind_SpeedKm_h',\n",
       "       'Max_Gust_SpeedKm_h', 'Precipitationmm', 'CloudCover', 'Events',\n",
       "       'WindDirDegrees', 'StateName', 'State'],\n",
       "      dtype='object')"
      ]
     },
     "execution_count": 25,
     "metadata": {},
     "output_type": "execute_result"
    }
   ],
   "source": [
    "weather.columns"
   ]
  },
  {
   "cell_type": "markdown",
   "metadata": {},
   "source": [
    "Notar como se agregaron las columnas"
   ]
  },
  {
   "cell_type": "code",
   "execution_count": 26,
   "metadata": {},
   "outputs": [
    {
     "data": {
      "text/html": [
       "<div>\n",
       "<style scoped>\n",
       "    .dataframe tbody tr th:only-of-type {\n",
       "        vertical-align: middle;\n",
       "    }\n",
       "\n",
       "    .dataframe tbody tr th {\n",
       "        vertical-align: top;\n",
       "    }\n",
       "\n",
       "    .dataframe thead th {\n",
       "        text-align: right;\n",
       "    }\n",
       "</style>\n",
       "<table border=\"1\" class=\"dataframe\">\n",
       "  <thead>\n",
       "    <tr style=\"text-align: right;\">\n",
       "      <th></th>\n",
       "      <th>file</th>\n",
       "      <th>Date</th>\n",
       "      <th>Max_TemperatureC</th>\n",
       "      <th>Mean_TemperatureC</th>\n",
       "      <th>Min_TemperatureC</th>\n",
       "      <th>Dew_PointC</th>\n",
       "      <th>MeanDew_PointC</th>\n",
       "      <th>Min_DewpointC</th>\n",
       "      <th>Max_Humidity</th>\n",
       "      <th>Mean_Humidity</th>\n",
       "      <th>...</th>\n",
       "      <th>Min_VisibilitykM</th>\n",
       "      <th>Max_Wind_SpeedKm_h</th>\n",
       "      <th>Mean_Wind_SpeedKm_h</th>\n",
       "      <th>Max_Gust_SpeedKm_h</th>\n",
       "      <th>Precipitationmm</th>\n",
       "      <th>CloudCover</th>\n",
       "      <th>Events</th>\n",
       "      <th>WindDirDegrees</th>\n",
       "      <th>StateName</th>\n",
       "      <th>State</th>\n",
       "    </tr>\n",
       "  </thead>\n",
       "  <tbody>\n",
       "    <tr>\n",
       "      <th>0</th>\n",
       "      <td>NordrheinWestfalen</td>\n",
       "      <td>2013-01-01</td>\n",
       "      <td>8</td>\n",
       "      <td>4</td>\n",
       "      <td>2</td>\n",
       "      <td>7</td>\n",
       "      <td>5</td>\n",
       "      <td>1</td>\n",
       "      <td>94</td>\n",
       "      <td>87</td>\n",
       "      <td>...</td>\n",
       "      <td>4.0</td>\n",
       "      <td>39</td>\n",
       "      <td>26</td>\n",
       "      <td>58.0</td>\n",
       "      <td>5.08</td>\n",
       "      <td>6.0</td>\n",
       "      <td>Rain</td>\n",
       "      <td>215</td>\n",
       "      <td>NordrheinWestfalen</td>\n",
       "      <td>NW</td>\n",
       "    </tr>\n",
       "    <tr>\n",
       "      <th>1</th>\n",
       "      <td>NordrheinWestfalen</td>\n",
       "      <td>2013-01-02</td>\n",
       "      <td>7</td>\n",
       "      <td>4</td>\n",
       "      <td>1</td>\n",
       "      <td>5</td>\n",
       "      <td>3</td>\n",
       "      <td>2</td>\n",
       "      <td>93</td>\n",
       "      <td>85</td>\n",
       "      <td>...</td>\n",
       "      <td>10.0</td>\n",
       "      <td>24</td>\n",
       "      <td>16</td>\n",
       "      <td>21.0</td>\n",
       "      <td>0.00</td>\n",
       "      <td>6.0</td>\n",
       "      <td>Rain</td>\n",
       "      <td>225</td>\n",
       "      <td>NordrheinWestfalen</td>\n",
       "      <td>NW</td>\n",
       "    </tr>\n",
       "    <tr>\n",
       "      <th>2</th>\n",
       "      <td>NordrheinWestfalen</td>\n",
       "      <td>2013-01-03</td>\n",
       "      <td>11</td>\n",
       "      <td>8</td>\n",
       "      <td>6</td>\n",
       "      <td>10</td>\n",
       "      <td>8</td>\n",
       "      <td>4</td>\n",
       "      <td>100</td>\n",
       "      <td>93</td>\n",
       "      <td>...</td>\n",
       "      <td>2.0</td>\n",
       "      <td>26</td>\n",
       "      <td>21</td>\n",
       "      <td>21.0</td>\n",
       "      <td>1.02</td>\n",
       "      <td>7.0</td>\n",
       "      <td>Rain</td>\n",
       "      <td>240</td>\n",
       "      <td>NordrheinWestfalen</td>\n",
       "      <td>NW</td>\n",
       "    </tr>\n",
       "    <tr>\n",
       "      <th>3</th>\n",
       "      <td>NordrheinWestfalen</td>\n",
       "      <td>2013-01-04</td>\n",
       "      <td>9</td>\n",
       "      <td>9</td>\n",
       "      <td>8</td>\n",
       "      <td>9</td>\n",
       "      <td>9</td>\n",
       "      <td>8</td>\n",
       "      <td>100</td>\n",
       "      <td>94</td>\n",
       "      <td>...</td>\n",
       "      <td>2.0</td>\n",
       "      <td>23</td>\n",
       "      <td>14</td>\n",
       "      <td>21.0</td>\n",
       "      <td>0.25</td>\n",
       "      <td>7.0</td>\n",
       "      <td>Rain</td>\n",
       "      <td>263</td>\n",
       "      <td>NordrheinWestfalen</td>\n",
       "      <td>NW</td>\n",
       "    </tr>\n",
       "    <tr>\n",
       "      <th>4</th>\n",
       "      <td>NordrheinWestfalen</td>\n",
       "      <td>2013-01-05</td>\n",
       "      <td>8</td>\n",
       "      <td>8</td>\n",
       "      <td>7</td>\n",
       "      <td>8</td>\n",
       "      <td>7</td>\n",
       "      <td>6</td>\n",
       "      <td>100</td>\n",
       "      <td>94</td>\n",
       "      <td>...</td>\n",
       "      <td>3.0</td>\n",
       "      <td>16</td>\n",
       "      <td>10</td>\n",
       "      <td>21.0</td>\n",
       "      <td>0.00</td>\n",
       "      <td>7.0</td>\n",
       "      <td>Rain</td>\n",
       "      <td>268</td>\n",
       "      <td>NordrheinWestfalen</td>\n",
       "      <td>NW</td>\n",
       "    </tr>\n",
       "    <tr>\n",
       "      <th>...</th>\n",
       "      <td>...</td>\n",
       "      <td>...</td>\n",
       "      <td>...</td>\n",
       "      <td>...</td>\n",
       "      <td>...</td>\n",
       "      <td>...</td>\n",
       "      <td>...</td>\n",
       "      <td>...</td>\n",
       "      <td>...</td>\n",
       "      <td>...</td>\n",
       "      <td>...</td>\n",
       "      <td>...</td>\n",
       "      <td>...</td>\n",
       "      <td>...</td>\n",
       "      <td>...</td>\n",
       "      <td>...</td>\n",
       "      <td>...</td>\n",
       "      <td>...</td>\n",
       "      <td>...</td>\n",
       "      <td>...</td>\n",
       "      <td>...</td>\n",
       "    </tr>\n",
       "    <tr>\n",
       "      <th>15835</th>\n",
       "      <td>Saarland</td>\n",
       "      <td>2015-09-13</td>\n",
       "      <td>21</td>\n",
       "      <td>17</td>\n",
       "      <td>12</td>\n",
       "      <td>16</td>\n",
       "      <td>14</td>\n",
       "      <td>12</td>\n",
       "      <td>100</td>\n",
       "      <td>88</td>\n",
       "      <td>...</td>\n",
       "      <td>10.0</td>\n",
       "      <td>27</td>\n",
       "      <td>10</td>\n",
       "      <td>50.0</td>\n",
       "      <td>1.02</td>\n",
       "      <td>7.0</td>\n",
       "      <td>Rain</td>\n",
       "      <td>113</td>\n",
       "      <td>Saarland</td>\n",
       "      <td>SL</td>\n",
       "    </tr>\n",
       "    <tr>\n",
       "      <th>15836</th>\n",
       "      <td>Saarland</td>\n",
       "      <td>2015-09-14</td>\n",
       "      <td>18</td>\n",
       "      <td>14</td>\n",
       "      <td>11</td>\n",
       "      <td>15</td>\n",
       "      <td>12</td>\n",
       "      <td>7</td>\n",
       "      <td>99</td>\n",
       "      <td>85</td>\n",
       "      <td>...</td>\n",
       "      <td>4.0</td>\n",
       "      <td>32</td>\n",
       "      <td>16</td>\n",
       "      <td>53.0</td>\n",
       "      <td>9.91</td>\n",
       "      <td>5.0</td>\n",
       "      <td>Rain-Thunderstorm</td>\n",
       "      <td>213</td>\n",
       "      <td>Saarland</td>\n",
       "      <td>SL</td>\n",
       "    </tr>\n",
       "    <tr>\n",
       "      <th>15837</th>\n",
       "      <td>Saarland</td>\n",
       "      <td>2015-09-15</td>\n",
       "      <td>16</td>\n",
       "      <td>12</td>\n",
       "      <td>9</td>\n",
       "      <td>11</td>\n",
       "      <td>8</td>\n",
       "      <td>7</td>\n",
       "      <td>93</td>\n",
       "      <td>77</td>\n",
       "      <td>...</td>\n",
       "      <td>10.0</td>\n",
       "      <td>34</td>\n",
       "      <td>14</td>\n",
       "      <td>21.0</td>\n",
       "      <td>0.00</td>\n",
       "      <td>5.0</td>\n",
       "      <td>Rain</td>\n",
       "      <td>193</td>\n",
       "      <td>Saarland</td>\n",
       "      <td>SL</td>\n",
       "    </tr>\n",
       "    <tr>\n",
       "      <th>15838</th>\n",
       "      <td>Saarland</td>\n",
       "      <td>2015-09-16</td>\n",
       "      <td>19</td>\n",
       "      <td>15</td>\n",
       "      <td>11</td>\n",
       "      <td>16</td>\n",
       "      <td>13</td>\n",
       "      <td>10</td>\n",
       "      <td>97</td>\n",
       "      <td>90</td>\n",
       "      <td>...</td>\n",
       "      <td>4.0</td>\n",
       "      <td>32</td>\n",
       "      <td>14</td>\n",
       "      <td>45.0</td>\n",
       "      <td>20.07</td>\n",
       "      <td>7.0</td>\n",
       "      <td>Rain-Thunderstorm</td>\n",
       "      <td>147</td>\n",
       "      <td>Saarland</td>\n",
       "      <td>SL</td>\n",
       "    </tr>\n",
       "    <tr>\n",
       "      <th>15839</th>\n",
       "      <td>Saarland</td>\n",
       "      <td>2015-09-17</td>\n",
       "      <td>14</td>\n",
       "      <td>13</td>\n",
       "      <td>12</td>\n",
       "      <td>14</td>\n",
       "      <td>12</td>\n",
       "      <td>10</td>\n",
       "      <td>99</td>\n",
       "      <td>92</td>\n",
       "      <td>...</td>\n",
       "      <td>8.0</td>\n",
       "      <td>27</td>\n",
       "      <td>16</td>\n",
       "      <td>47.0</td>\n",
       "      <td>6.10</td>\n",
       "      <td>6.0</td>\n",
       "      <td>Rain</td>\n",
       "      <td>202</td>\n",
       "      <td>Saarland</td>\n",
       "      <td>SL</td>\n",
       "    </tr>\n",
       "  </tbody>\n",
       "</table>\n",
       "<p>15840 rows × 26 columns</p>\n",
       "</div>"
      ],
      "text/plain": [
       "                     file        Date  Max_TemperatureC  Mean_TemperatureC  \\\n",
       "0      NordrheinWestfalen  2013-01-01                 8                  4   \n",
       "1      NordrheinWestfalen  2013-01-02                 7                  4   \n",
       "2      NordrheinWestfalen  2013-01-03                11                  8   \n",
       "3      NordrheinWestfalen  2013-01-04                 9                  9   \n",
       "4      NordrheinWestfalen  2013-01-05                 8                  8   \n",
       "...                   ...         ...               ...                ...   \n",
       "15835            Saarland  2015-09-13                21                 17   \n",
       "15836            Saarland  2015-09-14                18                 14   \n",
       "15837            Saarland  2015-09-15                16                 12   \n",
       "15838            Saarland  2015-09-16                19                 15   \n",
       "15839            Saarland  2015-09-17                14                 13   \n",
       "\n",
       "       Min_TemperatureC  Dew_PointC  MeanDew_PointC  Min_DewpointC  \\\n",
       "0                     2           7               5              1   \n",
       "1                     1           5               3              2   \n",
       "2                     6          10               8              4   \n",
       "3                     8           9               9              8   \n",
       "4                     7           8               7              6   \n",
       "...                 ...         ...             ...            ...   \n",
       "15835                12          16              14             12   \n",
       "15836                11          15              12              7   \n",
       "15837                 9          11               8              7   \n",
       "15838                11          16              13             10   \n",
       "15839                12          14              12             10   \n",
       "\n",
       "       Max_Humidity  Mean_Humidity  ...  Min_VisibilitykM  Max_Wind_SpeedKm_h  \\\n",
       "0                94             87  ...               4.0                  39   \n",
       "1                93             85  ...              10.0                  24   \n",
       "2               100             93  ...               2.0                  26   \n",
       "3               100             94  ...               2.0                  23   \n",
       "4               100             94  ...               3.0                  16   \n",
       "...             ...            ...  ...               ...                 ...   \n",
       "15835           100             88  ...              10.0                  27   \n",
       "15836            99             85  ...               4.0                  32   \n",
       "15837            93             77  ...              10.0                  34   \n",
       "15838            97             90  ...               4.0                  32   \n",
       "15839            99             92  ...               8.0                  27   \n",
       "\n",
       "       Mean_Wind_SpeedKm_h  Max_Gust_SpeedKm_h  Precipitationmm  CloudCover  \\\n",
       "0                       26                58.0             5.08         6.0   \n",
       "1                       16                21.0             0.00         6.0   \n",
       "2                       21                21.0             1.02         7.0   \n",
       "3                       14                21.0             0.25         7.0   \n",
       "4                       10                21.0             0.00         7.0   \n",
       "...                    ...                 ...              ...         ...   \n",
       "15835                   10                50.0             1.02         7.0   \n",
       "15836                   16                53.0             9.91         5.0   \n",
       "15837                   14                21.0             0.00         5.0   \n",
       "15838                   14                45.0            20.07         7.0   \n",
       "15839                   16                47.0             6.10         6.0   \n",
       "\n",
       "                  Events  WindDirDegrees           StateName  State  \n",
       "0                   Rain             215  NordrheinWestfalen     NW  \n",
       "1                   Rain             225  NordrheinWestfalen     NW  \n",
       "2                   Rain             240  NordrheinWestfalen     NW  \n",
       "3                   Rain             263  NordrheinWestfalen     NW  \n",
       "4                   Rain             268  NordrheinWestfalen     NW  \n",
       "...                  ...             ...                 ...    ...  \n",
       "15835               Rain             113            Saarland     SL  \n",
       "15836  Rain-Thunderstorm             213            Saarland     SL  \n",
       "15837               Rain             193            Saarland     SL  \n",
       "15838  Rain-Thunderstorm             147            Saarland     SL  \n",
       "15839               Rain             202            Saarland     SL  \n",
       "\n",
       "[15840 rows x 26 columns]"
      ]
     },
     "execution_count": 26,
     "metadata": {},
     "output_type": "execute_result"
    }
   ],
   "source": [
    "weather"
   ]
  },
  {
   "cell_type": "markdown",
   "metadata": {},
   "source": [
    "## Preprocess googletrend"
   ]
  },
  {
   "cell_type": "code",
   "execution_count": 27,
   "metadata": {},
   "outputs": [
    {
     "data": {
      "text/html": [
       "<div>\n",
       "<style scoped>\n",
       "    .dataframe tbody tr th:only-of-type {\n",
       "        vertical-align: middle;\n",
       "    }\n",
       "\n",
       "    .dataframe tbody tr th {\n",
       "        vertical-align: top;\n",
       "    }\n",
       "\n",
       "    .dataframe thead th {\n",
       "        text-align: right;\n",
       "    }\n",
       "</style>\n",
       "<table border=\"1\" class=\"dataframe\">\n",
       "  <thead>\n",
       "    <tr style=\"text-align: right;\">\n",
       "      <th></th>\n",
       "      <th>file</th>\n",
       "      <th>week</th>\n",
       "      <th>trend</th>\n",
       "    </tr>\n",
       "  </thead>\n",
       "  <tbody>\n",
       "    <tr>\n",
       "      <th>0</th>\n",
       "      <td>Rossmann_DE_SN</td>\n",
       "      <td>2012-12-02 - 2012-12-08</td>\n",
       "      <td>96</td>\n",
       "    </tr>\n",
       "    <tr>\n",
       "      <th>1</th>\n",
       "      <td>Rossmann_DE_SN</td>\n",
       "      <td>2012-12-09 - 2012-12-15</td>\n",
       "      <td>95</td>\n",
       "    </tr>\n",
       "    <tr>\n",
       "      <th>2</th>\n",
       "      <td>Rossmann_DE_SN</td>\n",
       "      <td>2012-12-16 - 2012-12-22</td>\n",
       "      <td>91</td>\n",
       "    </tr>\n",
       "    <tr>\n",
       "      <th>3</th>\n",
       "      <td>Rossmann_DE_SN</td>\n",
       "      <td>2012-12-23 - 2012-12-29</td>\n",
       "      <td>48</td>\n",
       "    </tr>\n",
       "    <tr>\n",
       "      <th>4</th>\n",
       "      <td>Rossmann_DE_SN</td>\n",
       "      <td>2012-12-30 - 2013-01-05</td>\n",
       "      <td>67</td>\n",
       "    </tr>\n",
       "  </tbody>\n",
       "</table>\n",
       "</div>"
      ],
      "text/plain": [
       "             file                     week  trend\n",
       "0  Rossmann_DE_SN  2012-12-02 - 2012-12-08     96\n",
       "1  Rossmann_DE_SN  2012-12-09 - 2012-12-15     95\n",
       "2  Rossmann_DE_SN  2012-12-16 - 2012-12-22     91\n",
       "3  Rossmann_DE_SN  2012-12-23 - 2012-12-29     48\n",
       "4  Rossmann_DE_SN  2012-12-30 - 2013-01-05     67"
      ]
     },
     "execution_count": 27,
     "metadata": {},
     "output_type": "execute_result"
    }
   ],
   "source": [
    "googletrend.head()"
   ]
  },
  {
   "cell_type": "code",
   "execution_count": 28,
   "metadata": {},
   "outputs": [],
   "source": [
    "# Armo columan date con el primer día de la semana\n",
    "googletrend['Date'] = googletrend.week.str.split(' - ', expand=True)[0]"
   ]
  },
  {
   "cell_type": "code",
   "execution_count": 29,
   "metadata": {},
   "outputs": [
    {
     "data": {
      "text/html": [
       "<div>\n",
       "<style scoped>\n",
       "    .dataframe tbody tr th:only-of-type {\n",
       "        vertical-align: middle;\n",
       "    }\n",
       "\n",
       "    .dataframe tbody tr th {\n",
       "        vertical-align: top;\n",
       "    }\n",
       "\n",
       "    .dataframe thead th {\n",
       "        text-align: right;\n",
       "    }\n",
       "</style>\n",
       "<table border=\"1\" class=\"dataframe\">\n",
       "  <thead>\n",
       "    <tr style=\"text-align: right;\">\n",
       "      <th></th>\n",
       "      <th>file</th>\n",
       "      <th>week</th>\n",
       "      <th>trend</th>\n",
       "      <th>Date</th>\n",
       "    </tr>\n",
       "  </thead>\n",
       "  <tbody>\n",
       "    <tr>\n",
       "      <th>0</th>\n",
       "      <td>Rossmann_DE_SN</td>\n",
       "      <td>2012-12-02 - 2012-12-08</td>\n",
       "      <td>96</td>\n",
       "      <td>2012-12-02</td>\n",
       "    </tr>\n",
       "    <tr>\n",
       "      <th>1</th>\n",
       "      <td>Rossmann_DE_SN</td>\n",
       "      <td>2012-12-09 - 2012-12-15</td>\n",
       "      <td>95</td>\n",
       "      <td>2012-12-09</td>\n",
       "    </tr>\n",
       "    <tr>\n",
       "      <th>2</th>\n",
       "      <td>Rossmann_DE_SN</td>\n",
       "      <td>2012-12-16 - 2012-12-22</td>\n",
       "      <td>91</td>\n",
       "      <td>2012-12-16</td>\n",
       "    </tr>\n",
       "    <tr>\n",
       "      <th>3</th>\n",
       "      <td>Rossmann_DE_SN</td>\n",
       "      <td>2012-12-23 - 2012-12-29</td>\n",
       "      <td>48</td>\n",
       "      <td>2012-12-23</td>\n",
       "    </tr>\n",
       "    <tr>\n",
       "      <th>4</th>\n",
       "      <td>Rossmann_DE_SN</td>\n",
       "      <td>2012-12-30 - 2013-01-05</td>\n",
       "      <td>67</td>\n",
       "      <td>2012-12-30</td>\n",
       "    </tr>\n",
       "  </tbody>\n",
       "</table>\n",
       "</div>"
      ],
      "text/plain": [
       "             file                     week  trend        Date\n",
       "0  Rossmann_DE_SN  2012-12-02 - 2012-12-08     96  2012-12-02\n",
       "1  Rossmann_DE_SN  2012-12-09 - 2012-12-15     95  2012-12-09\n",
       "2  Rossmann_DE_SN  2012-12-16 - 2012-12-22     91  2012-12-16\n",
       "3  Rossmann_DE_SN  2012-12-23 - 2012-12-29     48  2012-12-23\n",
       "4  Rossmann_DE_SN  2012-12-30 - 2013-01-05     67  2012-12-30"
      ]
     },
     "execution_count": 29,
     "metadata": {},
     "output_type": "execute_result"
    }
   ],
   "source": [
    "googletrend.head()"
   ]
  },
  {
   "cell_type": "code",
   "execution_count": 30,
   "metadata": {},
   "outputs": [],
   "source": [
    "# Armo columna de State con el nomnre del estado\n",
    "googletrend['State'] = googletrend.file.str.split('_', expand=True)[2]"
   ]
  },
  {
   "cell_type": "code",
   "execution_count": 31,
   "metadata": {},
   "outputs": [
    {
     "data": {
      "text/html": [
       "<div>\n",
       "<style scoped>\n",
       "    .dataframe tbody tr th:only-of-type {\n",
       "        vertical-align: middle;\n",
       "    }\n",
       "\n",
       "    .dataframe tbody tr th {\n",
       "        vertical-align: top;\n",
       "    }\n",
       "\n",
       "    .dataframe thead th {\n",
       "        text-align: right;\n",
       "    }\n",
       "</style>\n",
       "<table border=\"1\" class=\"dataframe\">\n",
       "  <thead>\n",
       "    <tr style=\"text-align: right;\">\n",
       "      <th></th>\n",
       "      <th>file</th>\n",
       "      <th>week</th>\n",
       "      <th>trend</th>\n",
       "      <th>Date</th>\n",
       "      <th>State</th>\n",
       "    </tr>\n",
       "  </thead>\n",
       "  <tbody>\n",
       "    <tr>\n",
       "      <th>0</th>\n",
       "      <td>Rossmann_DE_SN</td>\n",
       "      <td>2012-12-02 - 2012-12-08</td>\n",
       "      <td>96</td>\n",
       "      <td>2012-12-02</td>\n",
       "      <td>SN</td>\n",
       "    </tr>\n",
       "    <tr>\n",
       "      <th>1</th>\n",
       "      <td>Rossmann_DE_SN</td>\n",
       "      <td>2012-12-09 - 2012-12-15</td>\n",
       "      <td>95</td>\n",
       "      <td>2012-12-09</td>\n",
       "      <td>SN</td>\n",
       "    </tr>\n",
       "    <tr>\n",
       "      <th>2</th>\n",
       "      <td>Rossmann_DE_SN</td>\n",
       "      <td>2012-12-16 - 2012-12-22</td>\n",
       "      <td>91</td>\n",
       "      <td>2012-12-16</td>\n",
       "      <td>SN</td>\n",
       "    </tr>\n",
       "    <tr>\n",
       "      <th>3</th>\n",
       "      <td>Rossmann_DE_SN</td>\n",
       "      <td>2012-12-23 - 2012-12-29</td>\n",
       "      <td>48</td>\n",
       "      <td>2012-12-23</td>\n",
       "      <td>SN</td>\n",
       "    </tr>\n",
       "    <tr>\n",
       "      <th>4</th>\n",
       "      <td>Rossmann_DE_SN</td>\n",
       "      <td>2012-12-30 - 2013-01-05</td>\n",
       "      <td>67</td>\n",
       "      <td>2012-12-30</td>\n",
       "      <td>SN</td>\n",
       "    </tr>\n",
       "  </tbody>\n",
       "</table>\n",
       "</div>"
      ],
      "text/plain": [
       "             file                     week  trend        Date State\n",
       "0  Rossmann_DE_SN  2012-12-02 - 2012-12-08     96  2012-12-02    SN\n",
       "1  Rossmann_DE_SN  2012-12-09 - 2012-12-15     95  2012-12-09    SN\n",
       "2  Rossmann_DE_SN  2012-12-16 - 2012-12-22     91  2012-12-16    SN\n",
       "3  Rossmann_DE_SN  2012-12-23 - 2012-12-29     48  2012-12-23    SN\n",
       "4  Rossmann_DE_SN  2012-12-30 - 2013-01-05     67  2012-12-30    SN"
      ]
     },
     "execution_count": 31,
     "metadata": {},
     "output_type": "execute_result"
    }
   ],
   "source": [
    "googletrend.head()"
   ]
  },
  {
   "cell_type": "code",
   "execution_count": 32,
   "metadata": {},
   "outputs": [
    {
     "data": {
      "text/plain": [
       "SH    148\n",
       "HE    148\n",
       "NW    148\n",
       "TH    148\n",
       "RP    148\n",
       "BY    148\n",
       "HH    148\n",
       "BW    148\n",
       "SL    148\n",
       "NI    148\n",
       "ST    148\n",
       "BE    148\n",
       "SN    148\n",
       "Name: State, dtype: int64"
      ]
     },
     "execution_count": 32,
     "metadata": {},
     "output_type": "execute_result"
    }
   ],
   "source": [
    "googletrend['State'].value_counts()"
   ]
  },
  {
   "cell_type": "code",
   "execution_count": 33,
   "metadata": {},
   "outputs": [
    {
     "data": {
      "text/plain": [
       "0        BW\n",
       "1        BY\n",
       "2        BE\n",
       "3        BB\n",
       "4        HB\n",
       "5        HH\n",
       "6        HE\n",
       "7        MV\n",
       "8     HB,NI\n",
       "9        NW\n",
       "10       RP\n",
       "11       SL\n",
       "12       SN\n",
       "13       ST\n",
       "14       SH\n",
       "15       TH\n",
       "Name: State, dtype: object"
      ]
     },
     "execution_count": 33,
     "metadata": {},
     "output_type": "execute_result"
    }
   ],
   "source": [
    "# Notar que un estado tiene un acrónimo diferente\n",
    "state_names['State']"
   ]
  },
  {
   "cell_type": "code",
   "execution_count": 34,
   "metadata": {},
   "outputs": [],
   "source": [
    "# Lo corrijo\n",
    "googletrend.loc[googletrend.State=='NI', \"State\"] = 'HB,NI'"
   ]
  },
  {
   "cell_type": "markdown",
   "metadata": {},
   "source": [
    "# Transformo fecha"
   ]
  },
  {
   "cell_type": "code",
   "execution_count": 35,
   "metadata": {},
   "outputs": [
    {
     "name": "stderr",
     "output_type": "stream",
     "text": [
      "<ipython-input-35-a4bc06de8505>:5: FutureWarning: Series.dt.weekofyear and Series.dt.week have been deprecated.  Please use Series.dt.isocalendar().week instead.\n",
      "  df[\"Week\"] = df.Date.dt.week\n"
     ]
    }
   ],
   "source": [
    "def add_datepart(df):\n",
    "    df.Date = pd.to_datetime(df.Date)\n",
    "    df[\"Year\"] = df.Date.dt.year\n",
    "    df[\"Month\"] = df.Date.dt.month\n",
    "    df[\"Week\"] = df.Date.dt.week\n",
    "    df[\"Day\"] = df.Date.dt.day\n",
    "    \n",
    "add_datepart(weather)\n",
    "add_datepart(googletrend)\n",
    "add_datepart(train)\n",
    "add_datepart(test)"
   ]
  },
  {
   "cell_type": "code",
   "execution_count": 36,
   "metadata": {},
   "outputs": [],
   "source": [
    "# Trends generales de alemania tienen el state en None\n",
    "trend_de = googletrend[googletrend.file == 'Rossmann_DE']"
   ]
  },
  {
   "cell_type": "code",
   "execution_count": 37,
   "metadata": {},
   "outputs": [
    {
     "data": {
      "text/html": [
       "<div>\n",
       "<style scoped>\n",
       "    .dataframe tbody tr th:only-of-type {\n",
       "        vertical-align: middle;\n",
       "    }\n",
       "\n",
       "    .dataframe tbody tr th {\n",
       "        vertical-align: top;\n",
       "    }\n",
       "\n",
       "    .dataframe thead th {\n",
       "        text-align: right;\n",
       "    }\n",
       "</style>\n",
       "<table border=\"1\" class=\"dataframe\">\n",
       "  <thead>\n",
       "    <tr style=\"text-align: right;\">\n",
       "      <th></th>\n",
       "      <th>Date</th>\n",
       "      <th>Year</th>\n",
       "      <th>Month</th>\n",
       "      <th>Week</th>\n",
       "      <th>Day</th>\n",
       "    </tr>\n",
       "  </thead>\n",
       "  <tbody>\n",
       "    <tr>\n",
       "      <th>148</th>\n",
       "      <td>2012-12-02</td>\n",
       "      <td>2012</td>\n",
       "      <td>12</td>\n",
       "      <td>48</td>\n",
       "      <td>2</td>\n",
       "    </tr>\n",
       "    <tr>\n",
       "      <th>149</th>\n",
       "      <td>2012-12-09</td>\n",
       "      <td>2012</td>\n",
       "      <td>12</td>\n",
       "      <td>49</td>\n",
       "      <td>9</td>\n",
       "    </tr>\n",
       "    <tr>\n",
       "      <th>150</th>\n",
       "      <td>2012-12-16</td>\n",
       "      <td>2012</td>\n",
       "      <td>12</td>\n",
       "      <td>50</td>\n",
       "      <td>16</td>\n",
       "    </tr>\n",
       "    <tr>\n",
       "      <th>151</th>\n",
       "      <td>2012-12-23</td>\n",
       "      <td>2012</td>\n",
       "      <td>12</td>\n",
       "      <td>51</td>\n",
       "      <td>23</td>\n",
       "    </tr>\n",
       "    <tr>\n",
       "      <th>152</th>\n",
       "      <td>2012-12-30</td>\n",
       "      <td>2012</td>\n",
       "      <td>12</td>\n",
       "      <td>52</td>\n",
       "      <td>30</td>\n",
       "    </tr>\n",
       "    <tr>\n",
       "      <th>...</th>\n",
       "      <td>...</td>\n",
       "      <td>...</td>\n",
       "      <td>...</td>\n",
       "      <td>...</td>\n",
       "      <td>...</td>\n",
       "    </tr>\n",
       "    <tr>\n",
       "      <th>291</th>\n",
       "      <td>2015-08-30</td>\n",
       "      <td>2015</td>\n",
       "      <td>8</td>\n",
       "      <td>35</td>\n",
       "      <td>30</td>\n",
       "    </tr>\n",
       "    <tr>\n",
       "      <th>292</th>\n",
       "      <td>2015-09-06</td>\n",
       "      <td>2015</td>\n",
       "      <td>9</td>\n",
       "      <td>36</td>\n",
       "      <td>6</td>\n",
       "    </tr>\n",
       "    <tr>\n",
       "      <th>293</th>\n",
       "      <td>2015-09-13</td>\n",
       "      <td>2015</td>\n",
       "      <td>9</td>\n",
       "      <td>37</td>\n",
       "      <td>13</td>\n",
       "    </tr>\n",
       "    <tr>\n",
       "      <th>294</th>\n",
       "      <td>2015-09-20</td>\n",
       "      <td>2015</td>\n",
       "      <td>9</td>\n",
       "      <td>38</td>\n",
       "      <td>20</td>\n",
       "    </tr>\n",
       "    <tr>\n",
       "      <th>295</th>\n",
       "      <td>2015-09-27</td>\n",
       "      <td>2015</td>\n",
       "      <td>9</td>\n",
       "      <td>39</td>\n",
       "      <td>27</td>\n",
       "    </tr>\n",
       "  </tbody>\n",
       "</table>\n",
       "<p>148 rows × 5 columns</p>\n",
       "</div>"
      ],
      "text/plain": [
       "          Date  Year  Month  Week  Day\n",
       "148 2012-12-02  2012     12    48    2\n",
       "149 2012-12-09  2012     12    49    9\n",
       "150 2012-12-16  2012     12    50   16\n",
       "151 2012-12-23  2012     12    51   23\n",
       "152 2012-12-30  2012     12    52   30\n",
       "..         ...   ...    ...   ...  ...\n",
       "291 2015-08-30  2015      8    35   30\n",
       "292 2015-09-06  2015      9    36    6\n",
       "293 2015-09-13  2015      9    37   13\n",
       "294 2015-09-20  2015      9    38   20\n",
       "295 2015-09-27  2015      9    39   27\n",
       "\n",
       "[148 rows x 5 columns]"
      ]
     },
     "execution_count": 37,
     "metadata": {},
     "output_type": "execute_result"
    }
   ],
   "source": [
    "trend_de[['Date', 'Year','Month','Week','Day']]"
   ]
  },
  {
   "cell_type": "markdown",
   "metadata": {},
   "source": [
    "# Hago todo el resto de los joins"
   ]
  },
  {
   "cell_type": "code",
   "execution_count": 38,
   "metadata": {},
   "outputs": [
    {
     "data": {
      "text/plain": [
       "0"
      ]
     },
     "execution_count": 38,
     "metadata": {},
     "output_type": "execute_result"
    }
   ],
   "source": [
    "# Agrego acronimo de state al store\n",
    "store = join_df(store, store_states, \"Store\")\n",
    "len(store[store.State.isnull()])"
   ]
  },
  {
   "cell_type": "code",
   "execution_count": 39,
   "metadata": {},
   "outputs": [
    {
     "data": {
      "text/plain": [
       "Index(['Store', 'StoreType', 'Assortment', 'CompetitionDistance',\n",
       "       'CompetitionOpenSinceMonth', 'CompetitionOpenSinceYear', 'Promo2',\n",
       "       'Promo2SinceWeek', 'Promo2SinceYear', 'PromoInterval',\n",
       "       'CompetitionOpenSince', 'Promo2Since', 'State'],\n",
       "      dtype='object')"
      ]
     },
     "execution_count": 39,
     "metadata": {},
     "output_type": "execute_result"
    }
   ],
   "source": [
    "store.columns"
   ]
  },
  {
   "cell_type": "code",
   "execution_count": 40,
   "metadata": {},
   "outputs": [
    {
     "data": {
      "text/plain": [
       "0"
      ]
     },
     "execution_count": 40,
     "metadata": {},
     "output_type": "execute_result"
    }
   ],
   "source": [
    "# Mergeo train y store\n",
    "joined_train = join_df(train, store, \"Store\")\n",
    "len(joined_train[joined_train.StoreType.isnull()])"
   ]
  },
  {
   "cell_type": "code",
   "execution_count": 41,
   "metadata": {},
   "outputs": [
    {
     "data": {
      "text/plain": [
       "Index(['Store', 'DayOfWeek', 'Date', 'Sales', 'Customers', 'Open', 'Promo',\n",
       "       'StateHoliday', 'SchoolHoliday', 'Year', 'Month', 'Week', 'Day',\n",
       "       'StoreType', 'Assortment', 'CompetitionDistance',\n",
       "       'CompetitionOpenSinceMonth', 'CompetitionOpenSinceYear', 'Promo2',\n",
       "       'Promo2SinceWeek', 'Promo2SinceYear', 'PromoInterval',\n",
       "       'CompetitionOpenSince', 'Promo2Since', 'State'],\n",
       "      dtype='object')"
      ]
     },
     "execution_count": 41,
     "metadata": {},
     "output_type": "execute_result"
    }
   ],
   "source": [
    "joined_train.columns"
   ]
  },
  {
   "cell_type": "code",
   "execution_count": 42,
   "metadata": {},
   "outputs": [
    {
     "data": {
      "text/plain": [
       "0"
      ]
     },
     "execution_count": 42,
     "metadata": {},
     "output_type": "execute_result"
    }
   ],
   "source": [
    "# Mergeo test y store\n",
    "joined_test = join_df(test, store, \"Store\")\n",
    "len(joined_test[joined_test.StoreType.isnull()])"
   ]
  },
  {
   "cell_type": "code",
   "execution_count": 43,
   "metadata": {},
   "outputs": [
    {
     "data": {
      "text/plain": [
       "0"
      ]
     },
     "execution_count": 43,
     "metadata": {},
     "output_type": "execute_result"
    }
   ],
   "source": [
    "# Mergeo con googletrend\n",
    "joined_train = join_df(joined_train, googletrend, [\"State\",\"Year\", \"Week\"])\n",
    "len(joined_train[joined_train.trend.isnull()])"
   ]
  },
  {
   "cell_type": "code",
   "execution_count": 44,
   "metadata": {},
   "outputs": [
    {
     "data": {
      "text/plain": [
       "0"
      ]
     },
     "execution_count": 44,
     "metadata": {},
     "output_type": "execute_result"
    }
   ],
   "source": [
    "joined_test = join_df(joined_test, googletrend, [\"State\",\"Year\", \"Week\"])\n",
    "len(joined_test[joined_test.trend.isnull()])"
   ]
  },
  {
   "cell_type": "code",
   "execution_count": 45,
   "metadata": {},
   "outputs": [
    {
     "data": {
      "text/plain": [
       "0"
      ]
     },
     "execution_count": 45,
     "metadata": {},
     "output_type": "execute_result"
    }
   ],
   "source": [
    "joined_train = joined_train.merge(trend_de, 'left', [\"Year\", \"Week\"], suffixes=('', '_DE'))\n",
    "len(joined_train[joined_train.trend_DE.isnull()])"
   ]
  },
  {
   "cell_type": "code",
   "execution_count": 46,
   "metadata": {},
   "outputs": [
    {
     "data": {
      "text/plain": [
       "0"
      ]
     },
     "execution_count": 46,
     "metadata": {},
     "output_type": "execute_result"
    }
   ],
   "source": [
    "joined_test = joined_test.merge(trend_de, 'left', [\"Year\", \"Week\"], suffixes=('', '_DE'))\n",
    "len(joined_test[joined_test.trend_DE.isnull()])"
   ]
  },
  {
   "cell_type": "code",
   "execution_count": 47,
   "metadata": {},
   "outputs": [
    {
     "data": {
      "text/plain": [
       "0"
      ]
     },
     "execution_count": 47,
     "metadata": {},
     "output_type": "execute_result"
    }
   ],
   "source": [
    "joined_train = join_df(joined_train, weather, [\"State\",\"Date\"])\n",
    "len(joined_train[joined_train.Mean_TemperatureC.isnull()])"
   ]
  },
  {
   "cell_type": "code",
   "execution_count": 48,
   "metadata": {},
   "outputs": [
    {
     "data": {
      "text/plain": [
       "0"
      ]
     },
     "execution_count": 48,
     "metadata": {},
     "output_type": "execute_result"
    }
   ],
   "source": [
    "joined_test = join_df(joined_test, weather, [\"State\",\"Date\"])\n",
    "len(joined_test[joined_test.Mean_TemperatureC.isnull()])"
   ]
  },
  {
   "cell_type": "code",
   "execution_count": 49,
   "metadata": {},
   "outputs": [
    {
     "data": {
      "text/plain": [
       "Index(['Store', 'DayOfWeek', 'Date', 'Sales', 'Customers', 'Open', 'Promo',\n",
       "       'StateHoliday', 'SchoolHoliday', 'Year', 'Month', 'Week', 'Day',\n",
       "       'StoreType', 'Assortment', 'CompetitionDistance',\n",
       "       'CompetitionOpenSinceMonth', 'CompetitionOpenSinceYear', 'Promo2',\n",
       "       'Promo2SinceWeek', 'Promo2SinceYear', 'PromoInterval',\n",
       "       'CompetitionOpenSince', 'Promo2Since', 'State', 'file', 'week', 'trend',\n",
       "       'Date_y', 'Month_y', 'Day_y', 'file_DE', 'week_DE', 'trend_DE',\n",
       "       'Date_DE', 'State_DE', 'Month_DE', 'Day_DE', 'file_y',\n",
       "       'Max_TemperatureC', 'Mean_TemperatureC', 'Min_TemperatureC',\n",
       "       'Dew_PointC', 'MeanDew_PointC', 'Min_DewpointC', 'Max_Humidity',\n",
       "       'Mean_Humidity', 'Min_Humidity', 'Max_Sea_Level_PressurehPa',\n",
       "       'Mean_Sea_Level_PressurehPa', 'Min_Sea_Level_PressurehPa',\n",
       "       'Max_VisibilityKm', 'Mean_VisibilityKm', 'Min_VisibilitykM',\n",
       "       'Max_Wind_SpeedKm_h', 'Mean_Wind_SpeedKm_h', 'Max_Gust_SpeedKm_h',\n",
       "       'Precipitationmm', 'CloudCover', 'Events', 'WindDirDegrees',\n",
       "       'StateName', 'Year_y', 'Month_y', 'Week_y', 'Day_y'],\n",
       "      dtype='object')"
      ]
     },
     "execution_count": 49,
     "metadata": {},
     "output_type": "execute_result"
    }
   ],
   "source": [
    "joined_train.columns"
   ]
  },
  {
   "cell_type": "markdown",
   "metadata": {},
   "source": [
    "##  CompetitionOpenSince en dias guardada en CompetitionDaysOpen"
   ]
  },
  {
   "cell_type": "code",
   "execution_count": 50,
   "metadata": {},
   "outputs": [
    {
     "data": {
      "text/plain": [
       "0    2510\n",
       "1    2815\n",
       "2    3150\n",
       "3    2145\n",
       "4     107\n",
       "5     593\n",
       "6     837\n",
       "7     289\n",
       "8    5463\n",
       "9    2145\n",
       "Name: CompetitionDaysOpen, dtype: int64"
      ]
     },
     "execution_count": 50,
     "metadata": {},
     "output_type": "execute_result"
    }
   ],
   "source": [
    "joined_train[\"CompetitionDaysOpen\"] = joined_train.Date.subtract(joined_train[\"CompetitionOpenSince\"]).dt.days\n",
    "joined_train[\"CompetitionDaysOpen\"][:10]"
   ]
  },
  {
   "cell_type": "code",
   "execution_count": 51,
   "metadata": {},
   "outputs": [
    {
     "data": {
      "text/plain": [
       "0    2558\n",
       "1    3198\n",
       "2     885\n",
       "3     337\n",
       "4    5511\n",
       "5    2193\n",
       "6    1402\n",
       "7    9376\n",
       "8    9376\n",
       "9     551\n",
       "Name: CompetitionDaysOpen, dtype: int64"
      ]
     },
     "execution_count": 51,
     "metadata": {},
     "output_type": "execute_result"
    }
   ],
   "source": [
    "joined_test[\"CompetitionDaysOpen\"] = joined_test.Date.subtract(joined_test[\"CompetitionOpenSince\"]).dt.days\n",
    "joined_test[\"CompetitionDaysOpen\"][:10]"
   ]
  },
  {
   "cell_type": "code",
   "execution_count": 52,
   "metadata": {},
   "outputs": [],
   "source": [
    "# Corrige errores de la formula anterior\n",
    "joined_train.loc[joined_train.CompetitionDaysOpen<0, \"CompetitionDaysOpen\"] = 0\n",
    "joined_train.loc[joined_train.CompetitionOpenSinceYear<1990, \"CompetitionDaysOpen\"] = 0"
   ]
  },
  {
   "cell_type": "code",
   "execution_count": 53,
   "metadata": {},
   "outputs": [],
   "source": [
    "# Corrige errores de la formula anterior\n",
    "joined_test.loc[joined_test.CompetitionDaysOpen<0, \"CompetitionDaysOpen\"] = 0\n",
    "joined_test.loc[joined_test.CompetitionOpenSinceYear<1990, \"CompetitionDaysOpen\"] = 0"
   ]
  },
  {
   "cell_type": "code",
   "execution_count": 54,
   "metadata": {},
   "outputs": [
    {
     "data": {
      "text/plain": [
       "24    790886\n",
       "0      92590\n",
       "6       6356\n",
       "7       6350\n",
       "4       6278\n",
       "5       6261\n",
       "8       6203\n",
       "9       6138\n",
       "10      6118\n",
       "11      5971\n",
       "12      5867\n",
       "3       5850\n",
       "13      5724\n",
       "15      5699\n",
       "14      5655\n",
       "19      5649\n",
       "2       5621\n",
       "18      5619\n",
       "16      5618\n",
       "22      5558\n",
       "17      5549\n",
       "20      5500\n",
       "1       5482\n",
       "21      5398\n",
       "23      5269\n",
       "Name: CompetitionMonthsOpen, dtype: int64"
      ]
     },
     "execution_count": 54,
     "metadata": {},
     "output_type": "execute_result"
    }
   ],
   "source": [
    "# Lo pone en meses y limita a 2 años como máximo\n",
    "joined_train[\"CompetitionMonthsOpen\"] = joined_train[\"CompetitionDaysOpen\"]//30\n",
    "joined_train.loc[joined_train.CompetitionMonthsOpen>24, \"CompetitionMonthsOpen\"] = 24\n",
    "joined_train.CompetitionMonthsOpen.value_counts()"
   ]
  },
  {
   "cell_type": "code",
   "execution_count": 55,
   "metadata": {},
   "outputs": [
    {
     "data": {
      "text/plain": [
       "24    36782\n",
       "23      346\n",
       "17      292\n",
       "16      287\n",
       "13      260\n",
       "1       257\n",
       "10      247\n",
       "11      246\n",
       "14      197\n",
       "0       179\n",
       "18      169\n",
       "12      164\n",
       "8       161\n",
       "2       161\n",
       "4       152\n",
       "5       151\n",
       "20      149\n",
       "21      148\n",
       "22      146\n",
       "3       141\n",
       "15      126\n",
       "9       125\n",
       "19       84\n",
       "7        60\n",
       "6        58\n",
       "Name: CompetitionMonthsOpen, dtype: int64"
      ]
     },
     "execution_count": 55,
     "metadata": {},
     "output_type": "execute_result"
    }
   ],
   "source": [
    "# Lo pone en meses y limita a 2 años como máximo\n",
    "joined_test[\"CompetitionMonthsOpen\"] = joined_test[\"CompetitionDaysOpen\"]//30\n",
    "joined_test.loc[joined_test.CompetitionMonthsOpen>24, \"CompetitionMonthsOpen\"] = 24\n",
    "joined_test.CompetitionMonthsOpen.value_counts()"
   ]
  },
  {
   "cell_type": "markdown",
   "metadata": {},
   "source": [
    "### Mismo proceso a promodates"
   ]
  },
  {
   "cell_type": "code",
   "execution_count": 56,
   "metadata": {},
   "outputs": [
    {
     "data": {
      "text/plain": [
       "25    911602\n",
       "0      70849\n",
       "14      1659\n",
       "15      1659\n",
       "24      1659\n",
       "23      1659\n",
       "22      1659\n",
       "21      1659\n",
       "20      1659\n",
       "19      1659\n",
       "16      1659\n",
       "18      1652\n",
       "17      1633\n",
       "13      1514\n",
       "7       1267\n",
       "6       1267\n",
       "5       1263\n",
       "8       1261\n",
       "12      1260\n",
       "11      1260\n",
       "10      1260\n",
       "9       1258\n",
       "4       1236\n",
       "3       1232\n",
       "1       1232\n",
       "2       1232\n",
       "Name: Promo2Weeks, dtype: int64"
      ]
     },
     "execution_count": 56,
     "metadata": {},
     "output_type": "execute_result"
    }
   ],
   "source": [
    "joined_train[\"Promo2Days\"] = joined_train.Date.subtract(joined_train[\"Promo2Since\"]).dt.days\n",
    "joined_train.loc[joined_train.Promo2Days<0, \"Promo2Days\"] = 0\n",
    "joined_train.loc[joined_train.Promo2SinceYear<1990, \"Promo2Days\"] = 0\n",
    "joined_train[\"Promo2Weeks\"] = joined_train[\"Promo2Days\"]//7\n",
    "joined_train.loc[joined_train.Promo2Weeks<0, \"Promo2Weeks\"] = 0\n",
    "joined_train.loc[joined_train.Promo2Weeks>25, \"Promo2Weeks\"] = 25\n",
    "joined_train.Promo2Weeks.value_counts()"
   ]
  },
  {
   "cell_type": "code",
   "execution_count": 57,
   "metadata": {},
   "outputs": [
    {
     "data": {
      "text/plain": [
       "25    40704\n",
       "18       35\n",
       "19       35\n",
       "20       32\n",
       "23       28\n",
       "14       28\n",
       "21       28\n",
       "22       28\n",
       "13       23\n",
       "10       21\n",
       "11       21\n",
       "12       21\n",
       "9        21\n",
       "15       19\n",
       "24       16\n",
       "17       15\n",
       "16        7\n",
       "8         6\n",
       "Name: Promo2Weeks, dtype: int64"
      ]
     },
     "execution_count": 57,
     "metadata": {},
     "output_type": "execute_result"
    }
   ],
   "source": [
    "joined_test[\"Promo2Days\"] = joined_test.Date.subtract(joined_test[\"Promo2Since\"]).dt.days\n",
    "joined_test.loc[joined_test.Promo2Days<0, \"Promo2Days\"] = 0\n",
    "joined_test.loc[joined_test.Promo2SinceYear<1990, \"Promo2Days\"] = 0\n",
    "joined_test[\"Promo2Weeks\"] = joined_test[\"Promo2Days\"]//7\n",
    "joined_test.loc[joined_test.Promo2Weeks<0, \"Promo2Weeks\"] = 0\n",
    "joined_test.loc[joined_test.Promo2Weeks>25, \"Promo2Weeks\"] = 25\n",
    "joined_test.Promo2Weeks.value_counts()"
   ]
  },
  {
   "cell_type": "code",
   "execution_count": 58,
   "metadata": {},
   "outputs": [
    {
     "data": {
      "text/plain": [
       "((1017209, 70), (41088, 69))"
      ]
     },
     "execution_count": 58,
     "metadata": {},
     "output_type": "execute_result"
    }
   ],
   "source": [
    "joined_train.shape, joined_test.shape"
   ]
  },
  {
   "cell_type": "code",
   "execution_count": 59,
   "metadata": {},
   "outputs": [],
   "source": [
    "# Remove dup columns\n",
    "joined_train = joined_train.loc[:,~joined_train.columns.duplicated()]\n",
    "joined_test = joined_test.loc[:,~joined_test.columns.duplicated()]"
   ]
  },
  {
   "cell_type": "code",
   "execution_count": 60,
   "metadata": {},
   "outputs": [
    {
     "data": {
      "text/plain": [
       "((1017209, 68), (41088, 67))"
      ]
     },
     "execution_count": 60,
     "metadata": {},
     "output_type": "execute_result"
    }
   ],
   "source": [
    "joined_train.shape, joined_test.shape"
   ]
  },
  {
   "cell_type": "code",
   "execution_count": 61,
   "metadata": {},
   "outputs": [
    {
     "name": "stdout",
     "output_type": "stream",
     "text": [
      "Wall time: 1.88 s\n"
     ]
    }
   ],
   "source": [
    "%time joined_train.to_feather('joined_train_before_durations.fth')"
   ]
  },
  {
   "cell_type": "code",
   "execution_count": 62,
   "metadata": {},
   "outputs": [
    {
     "name": "stdout",
     "output_type": "stream",
     "text": [
      "Wall time: 61.3 ms\n"
     ]
    }
   ],
   "source": [
    "%time joined_test.to_feather('joined_test_before_durations.fth')"
   ]
  },
  {
   "cell_type": "code",
   "execution_count": 63,
   "metadata": {},
   "outputs": [
    {
     "data": {
      "text/plain": [
       "{'Customers', 'Sales'}"
      ]
     },
     "execution_count": 63,
     "metadata": {},
     "output_type": "execute_result"
    }
   ],
   "source": [
    "set(joined_train.columns) - set(joined_test.columns)"
   ]
  },
  {
   "cell_type": "code",
   "execution_count": 64,
   "metadata": {},
   "outputs": [
    {
     "name": "stdout",
     "output_type": "stream",
     "text": [
      "['file', 'Date', 'Max_TemperatureC', 'Mean_TemperatureC', 'Min_TemperatureC', 'Dew_PointC', 'MeanDew_PointC', 'Min_DewpointC', 'Max_Humidity', 'Mean_Humidity', 'Min_Humidity', 'Max_Sea_Level_PressurehPa', 'Mean_Sea_Level_PressurehPa', 'Min_Sea_Level_PressurehPa', 'Max_VisibilityKm', 'Mean_VisibilityKm', 'Min_VisibilitykM', 'Max_Wind_SpeedKm_h', 'Mean_Wind_SpeedKm_h', 'Max_Gust_SpeedKm_h', 'Precipitationmm', 'CloudCover', 'Events', 'WindDirDegrees', 'StateName', 'State', 'Year', 'Month', 'Week', 'Day']\n"
     ]
    }
   ],
   "source": [
    "print(list(weather.columns))"
   ]
  },
  {
   "cell_type": "code",
   "execution_count": 65,
   "metadata": {},
   "outputs": [
    {
     "data": {
      "text/html": [
       "<div>\n",
       "<style scoped>\n",
       "    .dataframe tbody tr th:only-of-type {\n",
       "        vertical-align: middle;\n",
       "    }\n",
       "\n",
       "    .dataframe tbody tr th {\n",
       "        vertical-align: top;\n",
       "    }\n",
       "\n",
       "    .dataframe thead th {\n",
       "        text-align: right;\n",
       "    }\n",
       "</style>\n",
       "<table border=\"1\" class=\"dataframe\">\n",
       "  <thead>\n",
       "    <tr style=\"text-align: right;\">\n",
       "      <th></th>\n",
       "      <th>Store</th>\n",
       "      <th>DayOfWeek</th>\n",
       "      <th>Date</th>\n",
       "      <th>Sales</th>\n",
       "      <th>Customers</th>\n",
       "      <th>Open</th>\n",
       "      <th>Promo</th>\n",
       "      <th>StateHoliday</th>\n",
       "      <th>SchoolHoliday</th>\n",
       "      <th>Year</th>\n",
       "      <th>...</th>\n",
       "      <th>CloudCover</th>\n",
       "      <th>Events</th>\n",
       "      <th>WindDirDegrees</th>\n",
       "      <th>StateName</th>\n",
       "      <th>Year_y</th>\n",
       "      <th>Week_y</th>\n",
       "      <th>CompetitionDaysOpen</th>\n",
       "      <th>CompetitionMonthsOpen</th>\n",
       "      <th>Promo2Days</th>\n",
       "      <th>Promo2Weeks</th>\n",
       "    </tr>\n",
       "  </thead>\n",
       "  <tbody>\n",
       "    <tr>\n",
       "      <th>0</th>\n",
       "      <td>1</td>\n",
       "      <td>5</td>\n",
       "      <td>2015-07-31</td>\n",
       "      <td>5263</td>\n",
       "      <td>555</td>\n",
       "      <td>1</td>\n",
       "      <td>1</td>\n",
       "      <td>0</td>\n",
       "      <td>1</td>\n",
       "      <td>2015</td>\n",
       "      <td>...</td>\n",
       "      <td>1.0</td>\n",
       "      <td>Fog</td>\n",
       "      <td>13</td>\n",
       "      <td>Hessen</td>\n",
       "      <td>2015</td>\n",
       "      <td>31</td>\n",
       "      <td>2510</td>\n",
       "      <td>24</td>\n",
       "      <td>9342</td>\n",
       "      <td>25</td>\n",
       "    </tr>\n",
       "    <tr>\n",
       "      <th>1</th>\n",
       "      <td>2</td>\n",
       "      <td>5</td>\n",
       "      <td>2015-07-31</td>\n",
       "      <td>6064</td>\n",
       "      <td>625</td>\n",
       "      <td>1</td>\n",
       "      <td>1</td>\n",
       "      <td>0</td>\n",
       "      <td>1</td>\n",
       "      <td>2015</td>\n",
       "      <td>...</td>\n",
       "      <td>4.0</td>\n",
       "      <td>Fog</td>\n",
       "      <td>309</td>\n",
       "      <td>Thueringen</td>\n",
       "      <td>2015</td>\n",
       "      <td>31</td>\n",
       "      <td>2815</td>\n",
       "      <td>24</td>\n",
       "      <td>1950</td>\n",
       "      <td>25</td>\n",
       "    </tr>\n",
       "    <tr>\n",
       "      <th>2</th>\n",
       "      <td>3</td>\n",
       "      <td>5</td>\n",
       "      <td>2015-07-31</td>\n",
       "      <td>8314</td>\n",
       "      <td>821</td>\n",
       "      <td>1</td>\n",
       "      <td>1</td>\n",
       "      <td>0</td>\n",
       "      <td>1</td>\n",
       "      <td>2015</td>\n",
       "      <td>...</td>\n",
       "      <td>2.0</td>\n",
       "      <td>Fog</td>\n",
       "      <td>354</td>\n",
       "      <td>NordrheinWestfalen</td>\n",
       "      <td>2015</td>\n",
       "      <td>31</td>\n",
       "      <td>3150</td>\n",
       "      <td>24</td>\n",
       "      <td>1579</td>\n",
       "      <td>25</td>\n",
       "    </tr>\n",
       "    <tr>\n",
       "      <th>3</th>\n",
       "      <td>4</td>\n",
       "      <td>5</td>\n",
       "      <td>2015-07-31</td>\n",
       "      <td>13995</td>\n",
       "      <td>1498</td>\n",
       "      <td>1</td>\n",
       "      <td>1</td>\n",
       "      <td>0</td>\n",
       "      <td>1</td>\n",
       "      <td>2015</td>\n",
       "      <td>...</td>\n",
       "      <td>6.0</td>\n",
       "      <td>Sunny</td>\n",
       "      <td>282</td>\n",
       "      <td>Berlin</td>\n",
       "      <td>2015</td>\n",
       "      <td>31</td>\n",
       "      <td>2145</td>\n",
       "      <td>24</td>\n",
       "      <td>9342</td>\n",
       "      <td>25</td>\n",
       "    </tr>\n",
       "    <tr>\n",
       "      <th>4</th>\n",
       "      <td>5</td>\n",
       "      <td>5</td>\n",
       "      <td>2015-07-31</td>\n",
       "      <td>4822</td>\n",
       "      <td>559</td>\n",
       "      <td>1</td>\n",
       "      <td>1</td>\n",
       "      <td>0</td>\n",
       "      <td>1</td>\n",
       "      <td>2015</td>\n",
       "      <td>...</td>\n",
       "      <td>4.0</td>\n",
       "      <td>Sunny</td>\n",
       "      <td>290</td>\n",
       "      <td>Sachsen</td>\n",
       "      <td>2015</td>\n",
       "      <td>31</td>\n",
       "      <td>107</td>\n",
       "      <td>3</td>\n",
       "      <td>9342</td>\n",
       "      <td>25</td>\n",
       "    </tr>\n",
       "    <tr>\n",
       "      <th>...</th>\n",
       "      <td>...</td>\n",
       "      <td>...</td>\n",
       "      <td>...</td>\n",
       "      <td>...</td>\n",
       "      <td>...</td>\n",
       "      <td>...</td>\n",
       "      <td>...</td>\n",
       "      <td>...</td>\n",
       "      <td>...</td>\n",
       "      <td>...</td>\n",
       "      <td>...</td>\n",
       "      <td>...</td>\n",
       "      <td>...</td>\n",
       "      <td>...</td>\n",
       "      <td>...</td>\n",
       "      <td>...</td>\n",
       "      <td>...</td>\n",
       "      <td>...</td>\n",
       "      <td>...</td>\n",
       "      <td>...</td>\n",
       "      <td>...</td>\n",
       "    </tr>\n",
       "    <tr>\n",
       "      <th>1017204</th>\n",
       "      <td>1111</td>\n",
       "      <td>2</td>\n",
       "      <td>2013-01-01</td>\n",
       "      <td>0</td>\n",
       "      <td>0</td>\n",
       "      <td>0</td>\n",
       "      <td>0</td>\n",
       "      <td>a</td>\n",
       "      <td>1</td>\n",
       "      <td>2013</td>\n",
       "      <td>...</td>\n",
       "      <td>6.0</td>\n",
       "      <td>Rain</td>\n",
       "      <td>215</td>\n",
       "      <td>NordrheinWestfalen</td>\n",
       "      <td>2013</td>\n",
       "      <td>1</td>\n",
       "      <td>0</td>\n",
       "      <td>0</td>\n",
       "      <td>0</td>\n",
       "      <td>0</td>\n",
       "    </tr>\n",
       "    <tr>\n",
       "      <th>1017205</th>\n",
       "      <td>1112</td>\n",
       "      <td>2</td>\n",
       "      <td>2013-01-01</td>\n",
       "      <td>0</td>\n",
       "      <td>0</td>\n",
       "      <td>0</td>\n",
       "      <td>0</td>\n",
       "      <td>a</td>\n",
       "      <td>1</td>\n",
       "      <td>2013</td>\n",
       "      <td>...</td>\n",
       "      <td>6.0</td>\n",
       "      <td>Rain</td>\n",
       "      <td>215</td>\n",
       "      <td>NordrheinWestfalen</td>\n",
       "      <td>2013</td>\n",
       "      <td>1</td>\n",
       "      <td>2453</td>\n",
       "      <td>24</td>\n",
       "      <td>8401</td>\n",
       "      <td>25</td>\n",
       "    </tr>\n",
       "    <tr>\n",
       "      <th>1017206</th>\n",
       "      <td>1113</td>\n",
       "      <td>2</td>\n",
       "      <td>2013-01-01</td>\n",
       "      <td>0</td>\n",
       "      <td>0</td>\n",
       "      <td>0</td>\n",
       "      <td>0</td>\n",
       "      <td>a</td>\n",
       "      <td>1</td>\n",
       "      <td>2013</td>\n",
       "      <td>...</td>\n",
       "      <td>6.0</td>\n",
       "      <td>Rain</td>\n",
       "      <td>251</td>\n",
       "      <td>SchleswigHolstein</td>\n",
       "      <td>2013</td>\n",
       "      <td>1</td>\n",
       "      <td>8387</td>\n",
       "      <td>24</td>\n",
       "      <td>8401</td>\n",
       "      <td>25</td>\n",
       "    </tr>\n",
       "    <tr>\n",
       "      <th>1017207</th>\n",
       "      <td>1114</td>\n",
       "      <td>2</td>\n",
       "      <td>2013-01-01</td>\n",
       "      <td>0</td>\n",
       "      <td>0</td>\n",
       "      <td>0</td>\n",
       "      <td>0</td>\n",
       "      <td>a</td>\n",
       "      <td>1</td>\n",
       "      <td>2013</td>\n",
       "      <td>...</td>\n",
       "      <td>6.0</td>\n",
       "      <td>Rain</td>\n",
       "      <td>234</td>\n",
       "      <td>Hamburg</td>\n",
       "      <td>2013</td>\n",
       "      <td>1</td>\n",
       "      <td>8387</td>\n",
       "      <td>24</td>\n",
       "      <td>8401</td>\n",
       "      <td>25</td>\n",
       "    </tr>\n",
       "    <tr>\n",
       "      <th>1017208</th>\n",
       "      <td>1115</td>\n",
       "      <td>2</td>\n",
       "      <td>2013-01-01</td>\n",
       "      <td>0</td>\n",
       "      <td>0</td>\n",
       "      <td>0</td>\n",
       "      <td>0</td>\n",
       "      <td>a</td>\n",
       "      <td>1</td>\n",
       "      <td>2013</td>\n",
       "      <td>...</td>\n",
       "      <td>6.0</td>\n",
       "      <td>Rain</td>\n",
       "      <td>206</td>\n",
       "      <td>Hessen</td>\n",
       "      <td>2013</td>\n",
       "      <td>1</td>\n",
       "      <td>8387</td>\n",
       "      <td>24</td>\n",
       "      <td>218</td>\n",
       "      <td>25</td>\n",
       "    </tr>\n",
       "  </tbody>\n",
       "</table>\n",
       "<p>1017209 rows × 68 columns</p>\n",
       "</div>"
      ],
      "text/plain": [
       "         Store  DayOfWeek       Date  Sales  Customers  Open  Promo  \\\n",
       "0            1          5 2015-07-31   5263        555     1      1   \n",
       "1            2          5 2015-07-31   6064        625     1      1   \n",
       "2            3          5 2015-07-31   8314        821     1      1   \n",
       "3            4          5 2015-07-31  13995       1498     1      1   \n",
       "4            5          5 2015-07-31   4822        559     1      1   \n",
       "...        ...        ...        ...    ...        ...   ...    ...   \n",
       "1017204   1111          2 2013-01-01      0          0     0      0   \n",
       "1017205   1112          2 2013-01-01      0          0     0      0   \n",
       "1017206   1113          2 2013-01-01      0          0     0      0   \n",
       "1017207   1114          2 2013-01-01      0          0     0      0   \n",
       "1017208   1115          2 2013-01-01      0          0     0      0   \n",
       "\n",
       "        StateHoliday  SchoolHoliday  Year  ...  CloudCover  Events  \\\n",
       "0                  0              1  2015  ...         1.0     Fog   \n",
       "1                  0              1  2015  ...         4.0     Fog   \n",
       "2                  0              1  2015  ...         2.0     Fog   \n",
       "3                  0              1  2015  ...         6.0   Sunny   \n",
       "4                  0              1  2015  ...         4.0   Sunny   \n",
       "...              ...            ...   ...  ...         ...     ...   \n",
       "1017204            a              1  2013  ...         6.0    Rain   \n",
       "1017205            a              1  2013  ...         6.0    Rain   \n",
       "1017206            a              1  2013  ...         6.0    Rain   \n",
       "1017207            a              1  2013  ...         6.0    Rain   \n",
       "1017208            a              1  2013  ...         6.0    Rain   \n",
       "\n",
       "         WindDirDegrees           StateName Year_y  Week_y  \\\n",
       "0                    13              Hessen   2015      31   \n",
       "1                   309          Thueringen   2015      31   \n",
       "2                   354  NordrheinWestfalen   2015      31   \n",
       "3                   282              Berlin   2015      31   \n",
       "4                   290             Sachsen   2015      31   \n",
       "...                 ...                 ...    ...     ...   \n",
       "1017204             215  NordrheinWestfalen   2013       1   \n",
       "1017205             215  NordrheinWestfalen   2013       1   \n",
       "1017206             251   SchleswigHolstein   2013       1   \n",
       "1017207             234             Hamburg   2013       1   \n",
       "1017208             206              Hessen   2013       1   \n",
       "\n",
       "         CompetitionDaysOpen  CompetitionMonthsOpen  Promo2Days  Promo2Weeks  \n",
       "0                       2510                     24        9342           25  \n",
       "1                       2815                     24        1950           25  \n",
       "2                       3150                     24        1579           25  \n",
       "3                       2145                     24        9342           25  \n",
       "4                        107                      3        9342           25  \n",
       "...                      ...                    ...         ...          ...  \n",
       "1017204                    0                      0           0            0  \n",
       "1017205                 2453                     24        8401           25  \n",
       "1017206                 8387                     24        8401           25  \n",
       "1017207                 8387                     24        8401           25  \n",
       "1017208                 8387                     24         218           25  \n",
       "\n",
       "[1017209 rows x 68 columns]"
      ]
     },
     "metadata": {},
     "output_type": "display_data"
    }
   ],
   "source": [
    "display(joined_train)"
   ]
  },
  {
   "cell_type": "code",
   "execution_count": null,
   "metadata": {},
   "outputs": [],
   "source": []
  }
 ],
 "metadata": {
  "kernelspec": {
   "display_name": "Python 3",
   "language": "python",
   "name": "python3"
  },
  "language_info": {
   "codemirror_mode": {
    "name": "ipython",
    "version": 3
   },
   "file_extension": ".py",
   "mimetype": "text/x-python",
   "name": "python",
   "nbconvert_exporter": "python",
   "pygments_lexer": "ipython3",
   "version": "3.8.5"
  }
 },
 "nbformat": 4,
 "nbformat_minor": 4
}
